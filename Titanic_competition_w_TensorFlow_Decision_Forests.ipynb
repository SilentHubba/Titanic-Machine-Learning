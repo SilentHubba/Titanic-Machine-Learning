{
 "cells": [
  {
   "cell_type": "code",
   "execution_count": 1,
   "metadata": {
    "id": "Tpq6thDFXqcs"
   },
   "outputs": [
    {
     "data": {
      "application/vnd.jupyter.widget-view+json": {
       "model_id": "1d51b98995dd40e98133ee0d0252ccac",
       "version_major": 2,
       "version_minor": 0
      },
      "text/plain": [
       "VBox(children=(HTML(value='<center> <img\\nsrc=https://www.kaggle.com/static/images/site-logo.png\\nalt=\\'Kaggle…"
      ]
     },
     "metadata": {},
     "output_type": "display_data"
    }
   ],
   "source": [
    "# IMPORTANT: SOME KAGGLE DATA SOURCES ARE PRIVATE\n",
    "# RUN THIS CELL IN ORDER TO IMPORT YOUR KAGGLE DATA SOURCES.\n",
    "# import kagglehub\n",
    "# kagglehub.login()\n"
   ]
  },
  {
   "cell_type": "code",
   "execution_count": 2,
   "metadata": {
    "id": "0ajTmRNoXqcu"
   },
   "outputs": [
    {
     "ename": "UnauthenticatedError",
     "evalue": "User is not authenticated",
     "output_type": "error",
     "traceback": [
      "\u001b[31m---------------------------------------------------------------------------\u001b[39m",
      "\u001b[31mUnauthenticatedError\u001b[39m                      Traceback (most recent call last)",
      "\u001b[36mCell\u001b[39m\u001b[36m \u001b[39m\u001b[32mIn[2]\u001b[39m\u001b[32m, line 7\u001b[39m\n\u001b[32m      1\u001b[39m \u001b[38;5;66;03m# IMPORTANT: RUN THIS CELL IN ORDER TO IMPORT YOUR KAGGLE DATA SOURCES,\u001b[39;00m\n\u001b[32m      2\u001b[39m \u001b[38;5;66;03m# THEN FEEL FREE TO DELETE THIS CELL.\u001b[39;00m\n\u001b[32m      3\u001b[39m \u001b[38;5;66;03m# NOTE: THIS NOTEBOOK ENVIRONMENT DIFFERS FROM KAGGLE'S PYTHON\u001b[39;00m\n\u001b[32m      4\u001b[39m \u001b[38;5;66;03m# ENVIRONMENT SO THERE MAY BE MISSING LIBRARIES USED BY YOUR\u001b[39;00m\n\u001b[32m      5\u001b[39m \u001b[38;5;66;03m# NOTEBOOK.\u001b[39;00m\n\u001b[32m----> \u001b[39m\u001b[32m7\u001b[39m titanic_path = \u001b[43mkagglehub\u001b[49m\u001b[43m.\u001b[49m\u001b[43mcompetition_download\u001b[49m\u001b[43m(\u001b[49m\u001b[33;43m'\u001b[39;49m\u001b[33;43mtitanic\u001b[39;49m\u001b[33;43m'\u001b[39;49m\u001b[43m)\u001b[49m\n\u001b[32m      9\u001b[39m \u001b[38;5;28mprint\u001b[39m(\u001b[33m'\u001b[39m\u001b[33mData source import complete.\u001b[39m\u001b[33m'\u001b[39m)\n",
      "\u001b[36mFile \u001b[39m\u001b[32m/opt/miniconda3/envs/ml/lib/python3.12/site-packages/kagglehub/competition.py:23\u001b[39m, in \u001b[36mcompetition_download\u001b[39m\u001b[34m(handle, path, force_download)\u001b[39m\n\u001b[32m     21\u001b[39m h = parse_competition_handle(handle)\n\u001b[32m     22\u001b[39m logger.info(\u001b[33mf\u001b[39m\u001b[33m\"\u001b[39m\u001b[33mDownloading competition: \u001b[39m\u001b[38;5;132;01m{\u001b[39;00mh.to_url()\u001b[38;5;132;01m}\u001b[39;00m\u001b[33m ...\u001b[39m\u001b[33m\"\u001b[39m, extra={**EXTRA_CONSOLE_BLOCK})\n\u001b[32m---> \u001b[39m\u001b[32m23\u001b[39m path, _ = \u001b[43mregistry\u001b[49m\u001b[43m.\u001b[49m\u001b[43mcompetition_resolver\u001b[49m\u001b[43m(\u001b[49m\u001b[43mh\u001b[49m\u001b[43m,\u001b[49m\u001b[43m \u001b[49m\u001b[43mpath\u001b[49m\u001b[43m,\u001b[49m\u001b[43m \u001b[49m\u001b[43mforce_download\u001b[49m\u001b[43m=\u001b[49m\u001b[43mforce_download\u001b[49m\u001b[43m)\u001b[49m\n\u001b[32m     24\u001b[39m \u001b[38;5;28;01mreturn\u001b[39;00m path\n",
      "\u001b[36mFile \u001b[39m\u001b[32m/opt/miniconda3/envs/ml/lib/python3.12/site-packages/kagglehub/registry.py:28\u001b[39m, in \u001b[36mMultiImplRegistry.__call__\u001b[39m\u001b[34m(self, *args, **kwargs)\u001b[39m\n\u001b[32m     26\u001b[39m \u001b[38;5;28;01mfor\u001b[39;00m impl \u001b[38;5;129;01min\u001b[39;00m \u001b[38;5;28mreversed\u001b[39m(\u001b[38;5;28mself\u001b[39m._impls):\n\u001b[32m     27\u001b[39m     \u001b[38;5;28;01mif\u001b[39;00m impl.is_supported(*args, **kwargs):\n\u001b[32m---> \u001b[39m\u001b[32m28\u001b[39m         \u001b[38;5;28;01mreturn\u001b[39;00m \u001b[43mimpl\u001b[49m\u001b[43m(\u001b[49m\u001b[43m*\u001b[49m\u001b[43margs\u001b[49m\u001b[43m,\u001b[49m\u001b[43m \u001b[49m\u001b[43m*\u001b[49m\u001b[43m*\u001b[49m\u001b[43mkwargs\u001b[49m\u001b[43m)\u001b[49m\n\u001b[32m     29\u001b[39m     \u001b[38;5;28;01melse\u001b[39;00m:\n\u001b[32m     30\u001b[39m         fails.append(\u001b[38;5;28mtype\u001b[39m(impl).\u001b[34m__name__\u001b[39m)\n",
      "\u001b[36mFile \u001b[39m\u001b[32m/opt/miniconda3/envs/ml/lib/python3.12/site-packages/kagglehub/resolver.py:29\u001b[39m, in \u001b[36mResolver.__call__\u001b[39m\u001b[34m(self, handle, path, force_download)\u001b[39m\n\u001b[32m     15\u001b[39m \u001b[38;5;28;01mdef\u001b[39;00m\u001b[38;5;250m \u001b[39m\u001b[34m__call__\u001b[39m(\n\u001b[32m     16\u001b[39m     \u001b[38;5;28mself\u001b[39m, handle: T, path: Optional[\u001b[38;5;28mstr\u001b[39m] = \u001b[38;5;28;01mNone\u001b[39;00m, *, force_download: Optional[\u001b[38;5;28mbool\u001b[39m] = \u001b[38;5;28;01mFalse\u001b[39;00m\n\u001b[32m     17\u001b[39m ) -> \u001b[38;5;28mtuple\u001b[39m[\u001b[38;5;28mstr\u001b[39m, Optional[\u001b[38;5;28mint\u001b[39m]]:\n\u001b[32m     18\u001b[39m \u001b[38;5;250m    \u001b[39m\u001b[33;03m\"\"\"Resolves a handle into a path with the requested file(s) and the resource's version number.\u001b[39;00m\n\u001b[32m     19\u001b[39m \n\u001b[32m     20\u001b[39m \u001b[33;03m    Args:\u001b[39;00m\n\u001b[32m   (...)\u001b[39m\u001b[32m     27\u001b[39m \u001b[33;03m        Some cases where version number might be missing: Competition datasource, API-based models.\u001b[39;00m\n\u001b[32m     28\u001b[39m \u001b[33;03m    \"\"\"\u001b[39;00m\n\u001b[32m---> \u001b[39m\u001b[32m29\u001b[39m     path, version = \u001b[38;5;28;43mself\u001b[39;49m\u001b[43m.\u001b[49m\u001b[43m_resolve\u001b[49m\u001b[43m(\u001b[49m\u001b[43mhandle\u001b[49m\u001b[43m,\u001b[49m\u001b[43m \u001b[49m\u001b[43mpath\u001b[49m\u001b[43m,\u001b[49m\u001b[43m \u001b[49m\u001b[43mforce_download\u001b[49m\u001b[43m=\u001b[49m\u001b[43mforce_download\u001b[49m\u001b[43m)\u001b[49m\n\u001b[32m     31\u001b[39m     \u001b[38;5;66;03m# Note handles are immutable, so _resolve() could not have altered our reference\u001b[39;00m\n\u001b[32m     32\u001b[39m     register_datasource_access(handle, version)\n",
      "\u001b[36mFile \u001b[39m\u001b[32m/opt/miniconda3/envs/ml/lib/python3.12/site-packages/kagglehub/http_resolver.py:50\u001b[39m, in \u001b[36mCompetitionHttpResolver._resolve\u001b[39m\u001b[34m(self, h, path, force_download)\u001b[39m\n\u001b[32m     48\u001b[39m     \u001b[38;5;28;01mif\u001b[39;00m cached_path:\n\u001b[32m     49\u001b[39m         \u001b[38;5;28;01mreturn\u001b[39;00m cached_path, \u001b[38;5;28;01mNone\u001b[39;00m\n\u001b[32m---> \u001b[39m\u001b[32m50\u001b[39m     \u001b[38;5;28;01mraise\u001b[39;00m UnauthenticatedError()\n\u001b[32m     52\u001b[39m out_path = get_cached_path(h, path)\n\u001b[32m     53\u001b[39m \u001b[38;5;28;01mif\u001b[39;00m path:\n\u001b[32m     54\u001b[39m     \u001b[38;5;66;03m# For single file downloads.\u001b[39;00m\n",
      "\u001b[31mUnauthenticatedError\u001b[39m: User is not authenticated"
     ]
    }
   ],
   "source": [
    "# IMPORTANT: RUN THIS CELL IN ORDER TO IMPORT YOUR KAGGLE DATA SOURCES,\n",
    "# THEN FEEL FREE TO DELETE THIS CELL.\n",
    "# NOTE: THIS NOTEBOOK ENVIRONMENT DIFFERS FROM KAGGLE'S PYTHON\n",
    "# ENVIRONMENT SO THERE MAY BE MISSING LIBRARIES USED BY YOUR\n",
    "# NOTEBOOK.\n",
    "\n",
    "# titanic_path = kagglehub.competition_download('titanic')\n",
    "\n",
    "# print('Data source import complete.')\n"
   ]
  },
  {
   "cell_type": "markdown",
   "metadata": {
    "id": "zywDJTY9Xqcu"
   },
   "source": [
    "# Titanic competition with TensorFlow Decision Forests\n",
    "\n",
    "This notebook will take you through the steps needed to train a baseline Gradient Boosted Trees Model using TensorFlow Decision Forests and creating a submission on the Titanic competition.\n",
    "\n",
    "This notebook shows:\n",
    "\n",
    "1. How to do some basic pre-processing. For example, the passenger names will be tokenized, and ticket names will be splitted in parts.\n",
    "1. How to train a Gradient Boosted Trees (GBT) with default parameters\n",
    "1. How to train a GBT with improved default parameters\n",
    "1. How to tune the parameters of a GBTs\n",
    "1. How to train and ensemble many GBTs"
   ]
  },
  {
   "cell_type": "markdown",
   "metadata": {
    "id": "orbmBanwXqcv"
   },
   "source": [
    "# Imports dependencies"
   ]
  },
  {
   "cell_type": "code",
   "execution_count": 1,
   "metadata": {
    "id": "Mt1RJ-ZnXqcw"
   },
   "outputs": [
    {
     "name": "stderr",
     "output_type": "stream",
     "text": [
      "2025-05-29 11:46:14.218576: I tensorflow/core/platform/cpu_feature_guard.cc:210] This TensorFlow binary is optimized to use available CPU instructions in performance-critical operations.\n",
      "To enable the following instructions: AVX2 FMA, in other operations, rebuild TensorFlow with the appropriate compiler flags.\n",
      "WARNING:root:TensorFlow Decision Forests 1.9.0 is compatible with the following TensorFlow Versions: ['2.16.1']. However, TensorFlow 2.16.2 was detected. This can cause issues with the TF API and symbols in the custom C++ ops. See the TF and TF-DF compatibility table at https://github.com/tensorflow/decision-forests/blob/main/documentation/known_issues.md#compatibility-table.\n"
     ]
    },
    {
     "name": "stdout",
     "output_type": "stream",
     "text": [
      "Found TF-DF 1.9.0\n"
     ]
    }
   ],
   "source": [
    "import numpy as np\n",
    "import pandas as pd\n",
    "import os\n",
    "\n",
    "import tensorflow as tf\n",
    "import tensorflow_decision_forests as tfdf\n",
    "\n",
    "print(f\"Found TF-DF {tfdf.__version__}\")"
   ]
  },
  {
   "cell_type": "markdown",
   "metadata": {
    "id": "1JihQt3TXqcx"
   },
   "source": [
    "# Load dataset"
   ]
  },
  {
   "cell_type": "code",
   "execution_count": 2,
   "metadata": {
    "id": "iVL3iACJXqcx"
   },
   "outputs": [
    {
     "data": {
      "text/html": [
       "<div>\n",
       "<style scoped>\n",
       "    .dataframe tbody tr th:only-of-type {\n",
       "        vertical-align: middle;\n",
       "    }\n",
       "\n",
       "    .dataframe tbody tr th {\n",
       "        vertical-align: top;\n",
       "    }\n",
       "\n",
       "    .dataframe thead th {\n",
       "        text-align: right;\n",
       "    }\n",
       "</style>\n",
       "<table border=\"1\" class=\"dataframe\">\n",
       "  <thead>\n",
       "    <tr style=\"text-align: right;\">\n",
       "      <th></th>\n",
       "      <th>PassengerId</th>\n",
       "      <th>Survived</th>\n",
       "      <th>Pclass</th>\n",
       "      <th>Name</th>\n",
       "      <th>Sex</th>\n",
       "      <th>Age</th>\n",
       "      <th>SibSp</th>\n",
       "      <th>Parch</th>\n",
       "      <th>Ticket</th>\n",
       "      <th>Fare</th>\n",
       "      <th>Cabin</th>\n",
       "      <th>Embarked</th>\n",
       "    </tr>\n",
       "  </thead>\n",
       "  <tbody>\n",
       "    <tr>\n",
       "      <th>0</th>\n",
       "      <td>1</td>\n",
       "      <td>0</td>\n",
       "      <td>3</td>\n",
       "      <td>Braund, Mr. Owen Harris</td>\n",
       "      <td>male</td>\n",
       "      <td>22.0</td>\n",
       "      <td>1</td>\n",
       "      <td>0</td>\n",
       "      <td>A/5 21171</td>\n",
       "      <td>7.2500</td>\n",
       "      <td>NaN</td>\n",
       "      <td>S</td>\n",
       "    </tr>\n",
       "    <tr>\n",
       "      <th>1</th>\n",
       "      <td>2</td>\n",
       "      <td>1</td>\n",
       "      <td>1</td>\n",
       "      <td>Cumings, Mrs. John Bradley (Florence Briggs Th...</td>\n",
       "      <td>female</td>\n",
       "      <td>38.0</td>\n",
       "      <td>1</td>\n",
       "      <td>0</td>\n",
       "      <td>PC 17599</td>\n",
       "      <td>71.2833</td>\n",
       "      <td>C85</td>\n",
       "      <td>C</td>\n",
       "    </tr>\n",
       "    <tr>\n",
       "      <th>2</th>\n",
       "      <td>3</td>\n",
       "      <td>1</td>\n",
       "      <td>3</td>\n",
       "      <td>Heikkinen, Miss. Laina</td>\n",
       "      <td>female</td>\n",
       "      <td>26.0</td>\n",
       "      <td>0</td>\n",
       "      <td>0</td>\n",
       "      <td>STON/O2. 3101282</td>\n",
       "      <td>7.9250</td>\n",
       "      <td>NaN</td>\n",
       "      <td>S</td>\n",
       "    </tr>\n",
       "    <tr>\n",
       "      <th>3</th>\n",
       "      <td>4</td>\n",
       "      <td>1</td>\n",
       "      <td>1</td>\n",
       "      <td>Futrelle, Mrs. Jacques Heath (Lily May Peel)</td>\n",
       "      <td>female</td>\n",
       "      <td>35.0</td>\n",
       "      <td>1</td>\n",
       "      <td>0</td>\n",
       "      <td>113803</td>\n",
       "      <td>53.1000</td>\n",
       "      <td>C123</td>\n",
       "      <td>S</td>\n",
       "    </tr>\n",
       "    <tr>\n",
       "      <th>4</th>\n",
       "      <td>5</td>\n",
       "      <td>0</td>\n",
       "      <td>3</td>\n",
       "      <td>Allen, Mr. William Henry</td>\n",
       "      <td>male</td>\n",
       "      <td>35.0</td>\n",
       "      <td>0</td>\n",
       "      <td>0</td>\n",
       "      <td>373450</td>\n",
       "      <td>8.0500</td>\n",
       "      <td>NaN</td>\n",
       "      <td>S</td>\n",
       "    </tr>\n",
       "    <tr>\n",
       "      <th>5</th>\n",
       "      <td>6</td>\n",
       "      <td>0</td>\n",
       "      <td>3</td>\n",
       "      <td>Moran, Mr. James</td>\n",
       "      <td>male</td>\n",
       "      <td>NaN</td>\n",
       "      <td>0</td>\n",
       "      <td>0</td>\n",
       "      <td>330877</td>\n",
       "      <td>8.4583</td>\n",
       "      <td>NaN</td>\n",
       "      <td>Q</td>\n",
       "    </tr>\n",
       "    <tr>\n",
       "      <th>6</th>\n",
       "      <td>7</td>\n",
       "      <td>0</td>\n",
       "      <td>1</td>\n",
       "      <td>McCarthy, Mr. Timothy J</td>\n",
       "      <td>male</td>\n",
       "      <td>54.0</td>\n",
       "      <td>0</td>\n",
       "      <td>0</td>\n",
       "      <td>17463</td>\n",
       "      <td>51.8625</td>\n",
       "      <td>E46</td>\n",
       "      <td>S</td>\n",
       "    </tr>\n",
       "    <tr>\n",
       "      <th>7</th>\n",
       "      <td>8</td>\n",
       "      <td>0</td>\n",
       "      <td>3</td>\n",
       "      <td>Palsson, Master. Gosta Leonard</td>\n",
       "      <td>male</td>\n",
       "      <td>2.0</td>\n",
       "      <td>3</td>\n",
       "      <td>1</td>\n",
       "      <td>349909</td>\n",
       "      <td>21.0750</td>\n",
       "      <td>NaN</td>\n",
       "      <td>S</td>\n",
       "    </tr>\n",
       "    <tr>\n",
       "      <th>8</th>\n",
       "      <td>9</td>\n",
       "      <td>1</td>\n",
       "      <td>3</td>\n",
       "      <td>Johnson, Mrs. Oscar W (Elisabeth Vilhelmina Berg)</td>\n",
       "      <td>female</td>\n",
       "      <td>27.0</td>\n",
       "      <td>0</td>\n",
       "      <td>2</td>\n",
       "      <td>347742</td>\n",
       "      <td>11.1333</td>\n",
       "      <td>NaN</td>\n",
       "      <td>S</td>\n",
       "    </tr>\n",
       "    <tr>\n",
       "      <th>9</th>\n",
       "      <td>10</td>\n",
       "      <td>1</td>\n",
       "      <td>2</td>\n",
       "      <td>Nasser, Mrs. Nicholas (Adele Achem)</td>\n",
       "      <td>female</td>\n",
       "      <td>14.0</td>\n",
       "      <td>1</td>\n",
       "      <td>0</td>\n",
       "      <td>237736</td>\n",
       "      <td>30.0708</td>\n",
       "      <td>NaN</td>\n",
       "      <td>C</td>\n",
       "    </tr>\n",
       "  </tbody>\n",
       "</table>\n",
       "</div>"
      ],
      "text/plain": [
       "   PassengerId  Survived  Pclass  \\\n",
       "0            1         0       3   \n",
       "1            2         1       1   \n",
       "2            3         1       3   \n",
       "3            4         1       1   \n",
       "4            5         0       3   \n",
       "5            6         0       3   \n",
       "6            7         0       1   \n",
       "7            8         0       3   \n",
       "8            9         1       3   \n",
       "9           10         1       2   \n",
       "\n",
       "                                                Name     Sex   Age  SibSp  \\\n",
       "0                            Braund, Mr. Owen Harris    male  22.0      1   \n",
       "1  Cumings, Mrs. John Bradley (Florence Briggs Th...  female  38.0      1   \n",
       "2                             Heikkinen, Miss. Laina  female  26.0      0   \n",
       "3       Futrelle, Mrs. Jacques Heath (Lily May Peel)  female  35.0      1   \n",
       "4                           Allen, Mr. William Henry    male  35.0      0   \n",
       "5                                   Moran, Mr. James    male   NaN      0   \n",
       "6                            McCarthy, Mr. Timothy J    male  54.0      0   \n",
       "7                     Palsson, Master. Gosta Leonard    male   2.0      3   \n",
       "8  Johnson, Mrs. Oscar W (Elisabeth Vilhelmina Berg)  female  27.0      0   \n",
       "9                Nasser, Mrs. Nicholas (Adele Achem)  female  14.0      1   \n",
       "\n",
       "   Parch            Ticket     Fare Cabin Embarked  \n",
       "0      0         A/5 21171   7.2500   NaN        S  \n",
       "1      0          PC 17599  71.2833   C85        C  \n",
       "2      0  STON/O2. 3101282   7.9250   NaN        S  \n",
       "3      0            113803  53.1000  C123        S  \n",
       "4      0            373450   8.0500   NaN        S  \n",
       "5      0            330877   8.4583   NaN        Q  \n",
       "6      0             17463  51.8625   E46        S  \n",
       "7      1            349909  21.0750   NaN        S  \n",
       "8      2            347742  11.1333   NaN        S  \n",
       "9      0            237736  30.0708   NaN        C  "
      ]
     },
     "execution_count": 2,
     "metadata": {},
     "output_type": "execute_result"
    }
   ],
   "source": [
    "train_df = pd.read_csv(\"titanic/train.csv\")\n",
    "serving_df = pd.read_csv(\"titanic/test.csv\")\n",
    "\n",
    "train_df.head(10)"
   ]
  },
  {
   "cell_type": "markdown",
   "metadata": {
    "id": "l0SIQJYSXqcy"
   },
   "source": [
    "# Prepare dataset\n",
    "\n",
    "We will apply the following transformations on the dataset.\n",
    "\n",
    "1. Tokenize the names. For example, \"Braund, Mr. Owen Harris\" will become [\"Braund\", \"Mr.\", \"Owen\", \"Harris\"].\n",
    "2. Extract any prefix in the ticket. For example ticket \"STON/O2. 3101282\" will become \"STON/O2.\" and 3101282."
   ]
  },
  {
   "cell_type": "code",
   "execution_count": 3,
   "metadata": {
    "id": "AFxTNDdlXqcz"
   },
   "outputs": [
    {
     "data": {
      "text/html": [
       "<div>\n",
       "<style scoped>\n",
       "    .dataframe tbody tr th:only-of-type {\n",
       "        vertical-align: middle;\n",
       "    }\n",
       "\n",
       "    .dataframe tbody tr th {\n",
       "        vertical-align: top;\n",
       "    }\n",
       "\n",
       "    .dataframe thead th {\n",
       "        text-align: right;\n",
       "    }\n",
       "</style>\n",
       "<table border=\"1\" class=\"dataframe\">\n",
       "  <thead>\n",
       "    <tr style=\"text-align: right;\">\n",
       "      <th></th>\n",
       "      <th>PassengerId</th>\n",
       "      <th>Survived</th>\n",
       "      <th>Pclass</th>\n",
       "      <th>Name</th>\n",
       "      <th>Sex</th>\n",
       "      <th>Age</th>\n",
       "      <th>SibSp</th>\n",
       "      <th>Parch</th>\n",
       "      <th>Ticket</th>\n",
       "      <th>Fare</th>\n",
       "      <th>Cabin</th>\n",
       "      <th>Embarked</th>\n",
       "      <th>Ticket_number</th>\n",
       "      <th>Ticket_item</th>\n",
       "    </tr>\n",
       "  </thead>\n",
       "  <tbody>\n",
       "    <tr>\n",
       "      <th>0</th>\n",
       "      <td>1</td>\n",
       "      <td>0</td>\n",
       "      <td>3</td>\n",
       "      <td>Braund Mr Owen Harris</td>\n",
       "      <td>male</td>\n",
       "      <td>22.0</td>\n",
       "      <td>1</td>\n",
       "      <td>0</td>\n",
       "      <td>A/5 21171</td>\n",
       "      <td>7.2500</td>\n",
       "      <td>NaN</td>\n",
       "      <td>S</td>\n",
       "      <td>21171</td>\n",
       "      <td>A/5</td>\n",
       "    </tr>\n",
       "    <tr>\n",
       "      <th>1</th>\n",
       "      <td>2</td>\n",
       "      <td>1</td>\n",
       "      <td>1</td>\n",
       "      <td>Cumings Mrs John Bradley Florence Briggs Thayer</td>\n",
       "      <td>female</td>\n",
       "      <td>38.0</td>\n",
       "      <td>1</td>\n",
       "      <td>0</td>\n",
       "      <td>PC 17599</td>\n",
       "      <td>71.2833</td>\n",
       "      <td>C85</td>\n",
       "      <td>C</td>\n",
       "      <td>17599</td>\n",
       "      <td>PC</td>\n",
       "    </tr>\n",
       "    <tr>\n",
       "      <th>2</th>\n",
       "      <td>3</td>\n",
       "      <td>1</td>\n",
       "      <td>3</td>\n",
       "      <td>Heikkinen Miss Laina</td>\n",
       "      <td>female</td>\n",
       "      <td>26.0</td>\n",
       "      <td>0</td>\n",
       "      <td>0</td>\n",
       "      <td>STON/O2. 3101282</td>\n",
       "      <td>7.9250</td>\n",
       "      <td>NaN</td>\n",
       "      <td>S</td>\n",
       "      <td>3101282</td>\n",
       "      <td>STON/O2.</td>\n",
       "    </tr>\n",
       "    <tr>\n",
       "      <th>3</th>\n",
       "      <td>4</td>\n",
       "      <td>1</td>\n",
       "      <td>1</td>\n",
       "      <td>Futrelle Mrs Jacques Heath Lily May Peel</td>\n",
       "      <td>female</td>\n",
       "      <td>35.0</td>\n",
       "      <td>1</td>\n",
       "      <td>0</td>\n",
       "      <td>113803</td>\n",
       "      <td>53.1000</td>\n",
       "      <td>C123</td>\n",
       "      <td>S</td>\n",
       "      <td>113803</td>\n",
       "      <td>NONE</td>\n",
       "    </tr>\n",
       "    <tr>\n",
       "      <th>4</th>\n",
       "      <td>5</td>\n",
       "      <td>0</td>\n",
       "      <td>3</td>\n",
       "      <td>Allen Mr William Henry</td>\n",
       "      <td>male</td>\n",
       "      <td>35.0</td>\n",
       "      <td>0</td>\n",
       "      <td>0</td>\n",
       "      <td>373450</td>\n",
       "      <td>8.0500</td>\n",
       "      <td>NaN</td>\n",
       "      <td>S</td>\n",
       "      <td>373450</td>\n",
       "      <td>NONE</td>\n",
       "    </tr>\n",
       "  </tbody>\n",
       "</table>\n",
       "</div>"
      ],
      "text/plain": [
       "   PassengerId  Survived  Pclass  \\\n",
       "0            1         0       3   \n",
       "1            2         1       1   \n",
       "2            3         1       3   \n",
       "3            4         1       1   \n",
       "4            5         0       3   \n",
       "\n",
       "                                              Name     Sex   Age  SibSp  \\\n",
       "0                            Braund Mr Owen Harris    male  22.0      1   \n",
       "1  Cumings Mrs John Bradley Florence Briggs Thayer  female  38.0      1   \n",
       "2                             Heikkinen Miss Laina  female  26.0      0   \n",
       "3         Futrelle Mrs Jacques Heath Lily May Peel  female  35.0      1   \n",
       "4                           Allen Mr William Henry    male  35.0      0   \n",
       "\n",
       "   Parch            Ticket     Fare Cabin Embarked Ticket_number Ticket_item  \n",
       "0      0         A/5 21171   7.2500   NaN        S         21171         A/5  \n",
       "1      0          PC 17599  71.2833   C85        C         17599          PC  \n",
       "2      0  STON/O2. 3101282   7.9250   NaN        S       3101282    STON/O2.  \n",
       "3      0            113803  53.1000  C123        S        113803        NONE  \n",
       "4      0            373450   8.0500   NaN        S        373450        NONE  "
      ]
     },
     "execution_count": 3,
     "metadata": {},
     "output_type": "execute_result"
    }
   ],
   "source": [
    "def preprocess(df):\n",
    "    df = df.copy()\n",
    "\n",
    "    def normalize_name(x):\n",
    "        return \" \".join([v.strip(\",()[].\\\"'\") for v in x.split(\" \")])\n",
    "\n",
    "    def ticket_number(x):\n",
    "        return x.split(\" \")[-1]\n",
    "\n",
    "    def ticket_item(x):\n",
    "        items = x.split(\" \")\n",
    "        if len(items) == 1:\n",
    "            return \"NONE\"\n",
    "        return \"_\".join(items[0:-1])\n",
    "\n",
    "    df[\"Name\"] = df[\"Name\"].apply(normalize_name)\n",
    "    df[\"Ticket_number\"] = df[\"Ticket\"].apply(ticket_number)\n",
    "    df[\"Ticket_item\"] = df[\"Ticket\"].apply(ticket_item)\n",
    "    return df\n",
    "\n",
    "preprocessed_train_df = preprocess(train_df)\n",
    "preprocessed_serving_df = preprocess(serving_df)\n",
    "\n",
    "preprocessed_train_df.head(5)"
   ]
  },
  {
   "cell_type": "markdown",
   "metadata": {
    "id": "eE57Bbn4Xqcz"
   },
   "source": [
    "Let's keep the list of the input features of the model. Notably, we don't want to train our model on the \"PassengerId\" and \"Ticket\" features."
   ]
  },
  {
   "cell_type": "code",
   "execution_count": 4,
   "metadata": {
    "id": "tXmOYkn1Xqc0"
   },
   "outputs": [
    {
     "name": "stdout",
     "output_type": "stream",
     "text": [
      "Input features: ['Pclass', 'Name', 'Sex', 'Age', 'SibSp', 'Parch', 'Fare', 'Cabin', 'Embarked', 'Ticket_number', 'Ticket_item']\n"
     ]
    }
   ],
   "source": [
    "input_features = list(preprocessed_train_df.columns)\n",
    "input_features.remove(\"Ticket\")\n",
    "input_features.remove(\"PassengerId\")\n",
    "input_features.remove(\"Survived\")\n",
    "#input_features.remove(\"Ticket_number\")\n",
    "\n",
    "print(f\"Input features: {input_features}\")"
   ]
  },
  {
   "cell_type": "markdown",
   "metadata": {
    "id": "7M-IL6zTXqc0"
   },
   "source": [
    "# Convert Pandas dataset to TensorFlow Dataset"
   ]
  },
  {
   "cell_type": "code",
   "execution_count": 5,
   "metadata": {
    "id": "POBlqKxuXqc1"
   },
   "outputs": [],
   "source": [
    "def tokenize_names(features, labels=None):\n",
    "    \"\"\"Divide the names into tokens. TF-DF can consume text tokens natively.\"\"\"\n",
    "    features[\"Name\"] =  tf.strings.split(features[\"Name\"])\n",
    "    return features, labels\n",
    "\n",
    "train_ds = tfdf.keras.pd_dataframe_to_tf_dataset(preprocessed_train_df,label=\"Survived\").map(tokenize_names)\n",
    "serving_ds = tfdf.keras.pd_dataframe_to_tf_dataset(preprocessed_serving_df).map(tokenize_names)"
   ]
  },
  {
   "cell_type": "markdown",
   "metadata": {
    "id": "J41W0x_ZXqc1"
   },
   "source": [
    "# Train model with default parameters\n",
    "\n",
    "### Train model\n",
    "\n",
    "First, we are training a GradientBoostedTreesModel model with the default parameters."
   ]
  },
  {
   "cell_type": "code",
   "execution_count": 6,
   "metadata": {
    "id": "GOyuvGHKXqc1"
   },
   "outputs": [
    {
     "name": "stderr",
     "output_type": "stream",
     "text": [
      "[WARNING 25-05-29 11:47:10.0036 PDT gradient_boosted_trees.cc:1840] \"goss_alpha\" set but \"sampling_method\" not equal to \"GOSS\".\n",
      "[WARNING 25-05-29 11:47:10.0075 PDT gradient_boosted_trees.cc:1851] \"goss_beta\" set but \"sampling_method\" not equal to \"GOSS\".\n",
      "[WARNING 25-05-29 11:47:10.0075 PDT gradient_boosted_trees.cc:1865] \"selective_gradient_boosting_ratio\" set but \"sampling_method\" not equal to \"SELGB\".\n",
      "[INFO 25-05-29 11:47:13.7548 PDT kernel.cc:1233] Loading model from path /var/folders/4j/39rtwmqd5tg4g8dn1t6m037h0000gn/T/tmpdhyd6apd/model/ with prefix 822d6e39d37e42b9\n",
      "[INFO 25-05-29 11:47:13.7733 PDT quick_scorer_extended.cc:911] The binary was compiled without AVX2 support, but your CPU supports it. Enable it for faster model inference.\n",
      "[INFO 25-05-29 11:47:13.7749 PDT abstract_model.cc:1344] Engine \"GradientBoostedTreesQuickScorerExtended\" built\n",
      "[INFO 25-05-29 11:47:13.7749 PDT kernel.cc:1061] Use fast generic engine\n"
     ]
    },
    {
     "name": "stdout",
     "output_type": "stream",
     "text": [
      "Accuracy: 0.804347813129425 Loss:0.8922085165977478\n"
     ]
    }
   ],
   "source": [
    "model = tfdf.keras.GradientBoostedTreesModel(\n",
    "    verbose=0, # Very few logs\n",
    "    features=[tfdf.keras.FeatureUsage(name=n) for n in input_features],\n",
    "    exclude_non_specified_features=True, # Only use the features in \"features\"\n",
    "    random_seed=1234,\n",
    ")\n",
    "model.fit(train_ds)\n",
    "\n",
    "self_evaluation = model.make_inspector().evaluation()\n",
    "print(f\"Accuracy: {self_evaluation.accuracy} Loss:{self_evaluation.loss}\")"
   ]
  },
  {
   "cell_type": "markdown",
   "metadata": {
    "id": "gV4Hxv70Xqc2"
   },
   "source": [
    "# Train model with improved default parameters\n",
    "\n",
    "Now you'll use some specific parameters when creating the GBT model"
   ]
  },
  {
   "cell_type": "code",
   "execution_count": 7,
   "metadata": {
    "id": "i9Lik4K3Xqc2"
   },
   "outputs": [
    {
     "name": "stderr",
     "output_type": "stream",
     "text": [
      "[WARNING 25-05-29 11:47:31.1879 PDT gradient_boosted_trees.cc:1840] \"goss_alpha\" set but \"sampling_method\" not equal to \"GOSS\".\n",
      "[WARNING 25-05-29 11:47:31.1880 PDT gradient_boosted_trees.cc:1851] \"goss_beta\" set but \"sampling_method\" not equal to \"GOSS\".\n",
      "[WARNING 25-05-29 11:47:31.1880 PDT gradient_boosted_trees.cc:1865] \"selective_gradient_boosting_ratio\" set but \"sampling_method\" not equal to \"SELGB\".\n",
      "[INFO 25-05-29 11:47:31.8083 PDT kernel.cc:1233] Loading model from path /var/folders/4j/39rtwmqd5tg4g8dn1t6m037h0000gn/T/tmpegb4nuhc/model/ with prefix 1f93ed96ff624502\n",
      "[INFO 25-05-29 11:47:31.8187 PDT decision_forest.cc:734] Model loaded with 54 root(s), 2824 node(s), and 10 input feature(s).\n",
      "[INFO 25-05-29 11:47:31.8187 PDT abstract_model.cc:1344] Engine \"GradientBoostedTreesGeneric\" built\n",
      "[INFO 25-05-29 11:47:31.8188 PDT kernel.cc:1061] Use fast generic engine\n"
     ]
    },
    {
     "name": "stdout",
     "output_type": "stream",
     "text": [
      "Accuracy: 0.77173912525177 Loss:1.0136744976043701\n"
     ]
    }
   ],
   "source": [
    "model = tfdf.keras.GradientBoostedTreesModel(\n",
    "    verbose=0, # Very few logs\n",
    "    features=[tfdf.keras.FeatureUsage(name=n) for n in input_features],\n",
    "    exclude_non_specified_features=True, # Only use the features in \"features\"\n",
    "\n",
    "    #num_trees=2000,\n",
    "\n",
    "    # Only for GBT.\n",
    "    # A bit slower, but great to understand the model.\n",
    "    # compute_permutation_variable_importance=True,\n",
    "\n",
    "    # Change the default hyper-parameters\n",
    "    # hyperparameter_template=\"benchmark_rank1@v1\",\n",
    "\n",
    "    #num_trees=1000,\n",
    "    #tuner=tuner\n",
    "\n",
    "    min_examples=1,\n",
    "    categorical_algorithm=\"RANDOM\",\n",
    "    #max_depth=4,\n",
    "    shrinkage=0.05,\n",
    "    #num_candidate_attributes_ratio=0.2,\n",
    "    split_axis=\"SPARSE_OBLIQUE\",\n",
    "    sparse_oblique_normalization=\"MIN_MAX\",\n",
    "    sparse_oblique_num_projections_exponent=2.0,\n",
    "    num_trees=2000,\n",
    "    #validation_ratio=0.0,\n",
    "    random_seed=1234,\n",
    "\n",
    ")\n",
    "model.fit(train_ds)\n",
    "\n",
    "self_evaluation = model.make_inspector().evaluation()\n",
    "print(f\"Accuracy: {self_evaluation.accuracy} Loss:{self_evaluation.loss}\")"
   ]
  },
  {
   "cell_type": "markdown",
   "metadata": {
    "id": "kJqVS2DOXqc2"
   },
   "source": [
    "Let's look at the model and you can also notice the information about variable importance that the model figured out"
   ]
  },
  {
   "cell_type": "code",
   "execution_count": 8,
   "metadata": {
    "id": "BnehYZCpXqc3"
   },
   "outputs": [
    {
     "name": "stdout",
     "output_type": "stream",
     "text": [
      "Model: \"gradient_boosted_trees_model_1\"\n",
      "_________________________________________________________________\n",
      " Layer (type)                Output Shape              Param #   \n",
      "=================================================================\n",
      "=================================================================\n",
      "Total params: 1 (1.00 Byte)\n",
      "Trainable params: 0 (0.00 Byte)\n",
      "Non-trainable params: 1 (1.00 Byte)\n",
      "_________________________________________________________________\n",
      "Type: \"GRADIENT_BOOSTED_TREES\"\n",
      "Task: CLASSIFICATION\n",
      "Label: \"__LABEL\"\n",
      "\n",
      "Input Features (11):\n",
      "\tAge\n",
      "\tCabin\n",
      "\tEmbarked\n",
      "\tFare\n",
      "\tName\n",
      "\tParch\n",
      "\tPclass\n",
      "\tSex\n",
      "\tSibSp\n",
      "\tTicket_item\n",
      "\tTicket_number\n",
      "\n",
      "No weights\n",
      "\n",
      "Variable Importance: INV_MEAN_MIN_DEPTH:\n",
      "    1.           \"Sex\"  0.431313 ################\n",
      "    2.           \"Age\"  0.373986 ############\n",
      "    3.          \"Fare\"  0.250863 ####\n",
      "    4.          \"Name\"  0.225272 ###\n",
      "    5.   \"Ticket_item\"  0.182111 \n",
      "    6.      \"Embarked\"  0.181387 \n",
      "    7. \"Ticket_number\"  0.180897 \n",
      "    8.        \"Pclass\"  0.178279 \n",
      "    9.         \"Parch\"  0.175300 \n",
      "   10.         \"SibSp\"  0.172167 \n",
      "\n",
      "Variable Importance: NUM_AS_ROOT:\n",
      "    1.  \"Sex\" 39.000000 ################\n",
      "    2. \"Name\" 12.000000 ####\n",
      "    3.  \"Age\"  3.000000 \n",
      "\n",
      "Variable Importance: NUM_NODES:\n",
      "    1.           \"Age\" 677.000000 ################\n",
      "    2.          \"Fare\" 387.000000 #########\n",
      "    3.          \"Name\" 97.000000 ##\n",
      "    4.   \"Ticket_item\" 66.000000 #\n",
      "    5.           \"Sex\" 51.000000 #\n",
      "    6.         \"Parch\" 32.000000 \n",
      "    7. \"Ticket_number\" 27.000000 \n",
      "    8.      \"Embarked\" 26.000000 \n",
      "    9.        \"Pclass\" 14.000000 \n",
      "   10.         \"SibSp\"  8.000000 \n",
      "\n",
      "Variable Importance: SUM_SCORE:\n",
      "    1.           \"Age\" 438.353539 ################\n",
      "    2.           \"Sex\" 437.300922 ###############\n",
      "    3.          \"Fare\" 309.420547 ###########\n",
      "    4.          \"Name\" 172.193127 ######\n",
      "    5.        \"Pclass\" 46.099034 #\n",
      "    6.   \"Ticket_item\" 32.422949 #\n",
      "    7. \"Ticket_number\" 24.092083 \n",
      "    8.      \"Embarked\" 10.681472 \n",
      "    9.         \"Parch\"  9.273261 \n",
      "   10.         \"SibSp\"  2.142252 \n",
      "\n",
      "\n",
      "\n",
      "Loss: BINOMIAL_LOG_LIKELIHOOD\n",
      "Validation loss value: 1.01367\n",
      "Number of trees per iteration: 1\n",
      "Node format: NOT_SET\n",
      "Number of trees: 54\n",
      "Total number of nodes: 2824\n",
      "\n",
      "Number of nodes by tree:\n",
      "Count: 54 Average: 52.2963 StdDev: 5.8393\n",
      "Min: 37 Max: 61 Ignored: 0\n",
      "----------------------------------------------\n",
      "[ 37, 38)  1   1.85%   1.85% #\n",
      "[ 38, 39)  0   0.00%   1.85%\n",
      "[ 39, 40)  1   1.85%   3.70% #\n",
      "[ 40, 42)  2   3.70%   7.41% ##\n",
      "[ 42, 43)  0   0.00%   7.41%\n",
      "[ 43, 44)  2   3.70%  11.11% ##\n",
      "[ 44, 45)  0   0.00%  11.11%\n",
      "[ 45, 47)  3   5.56%  16.67% ###\n",
      "[ 47, 48)  1   1.85%  18.52% #\n",
      "[ 48, 49)  0   0.00%  18.52%\n",
      "[ 49, 50)  6  11.11%  29.63% ######\n",
      "[ 50, 52)  6  11.11%  40.74% ######\n",
      "[ 52, 53)  0   0.00%  40.74%\n",
      "[ 53, 54) 10  18.52%  59.26% ##########\n",
      "[ 54, 55)  0   0.00%  59.26%\n",
      "[ 55, 57)  7  12.96%  72.22% #######\n",
      "[ 57, 58)  5   9.26%  81.48% #####\n",
      "[ 58, 59)  0   0.00%  81.48%\n",
      "[ 59, 60)  6  11.11%  92.59% ######\n",
      "[ 60, 61]  4   7.41% 100.00% ####\n",
      "\n",
      "Depth by leafs:\n",
      "Count: 1439 Average: 4.84434 StdDev: 0.463491\n",
      "Min: 2 Max: 5 Ignored: 0\n",
      "----------------------------------------------\n",
      "[ 2, 3)    5   0.35%   0.35%\n",
      "[ 3, 4)   45   3.13%   3.47%\n",
      "[ 4, 5)  119   8.27%  11.74% #\n",
      "[ 5, 5] 1270  88.26% 100.00% ##########\n",
      "\n",
      "Number of training obs by leaf:\n",
      "Count: 1439 Average: 29.9833 StdDev: 74.0766\n",
      "Min: 1 Max: 474 Ignored: 0\n",
      "----------------------------------------------\n",
      "[   1,  24) 1144  79.50%  79.50% ##########\n",
      "[  24,  48)   92   6.39%  85.89% #\n",
      "[  48,  72)   59   4.10%  89.99% #\n",
      "[  72,  95)   16   1.11%  91.10%\n",
      "[  95, 119)   20   1.39%  92.49%\n",
      "[ 119, 143)   12   0.83%  93.33%\n",
      "[ 143, 166)   29   2.02%  95.34%\n",
      "[ 166, 190)   11   0.76%  96.11%\n",
      "[ 190, 214)    4   0.28%  96.39%\n",
      "[ 214, 238)    2   0.14%  96.53%\n",
      "[ 238, 261)    4   0.28%  96.80%\n",
      "[ 261, 285)    3   0.21%  97.01%\n",
      "[ 285, 309)    3   0.21%  97.22%\n",
      "[ 309, 332)    1   0.07%  97.29%\n",
      "[ 332, 356)    4   0.28%  97.57%\n",
      "[ 356, 380)   10   0.69%  98.26%\n",
      "[ 380, 403)    7   0.49%  98.75%\n",
      "[ 403, 427)   13   0.90%  99.65%\n",
      "[ 427, 451)    1   0.07%  99.72%\n",
      "[ 451, 474]    4   0.28% 100.00%\n",
      "\n",
      "Attribute in nodes:\n",
      "\t677 : Age [NUMERICAL]\n",
      "\t387 : Fare [NUMERICAL]\n",
      "\t97 : Name [CATEGORICAL_SET]\n",
      "\t66 : Ticket_item [CATEGORICAL]\n",
      "\t51 : Sex [CATEGORICAL]\n",
      "\t32 : Parch [NUMERICAL]\n",
      "\t27 : Ticket_number [CATEGORICAL]\n",
      "\t26 : Embarked [CATEGORICAL]\n",
      "\t14 : Pclass [NUMERICAL]\n",
      "\t8 : SibSp [NUMERICAL]\n",
      "\n",
      "Attribute in nodes with depth <= 0:\n",
      "\t39 : Sex [CATEGORICAL]\n",
      "\t12 : Name [CATEGORICAL_SET]\n",
      "\t3 : Age [NUMERICAL]\n",
      "\n",
      "Attribute in nodes with depth <= 1:\n",
      "\t65 : Age [NUMERICAL]\n",
      "\t39 : Sex [CATEGORICAL]\n",
      "\t26 : Fare [NUMERICAL]\n",
      "\t17 : Name [CATEGORICAL_SET]\n",
      "\t6 : Pclass [NUMERICAL]\n",
      "\t4 : Ticket_number [CATEGORICAL]\n",
      "\t3 : Embarked [CATEGORICAL]\n",
      "\t1 : Ticket_item [CATEGORICAL]\n",
      "\t1 : Parch [NUMERICAL]\n",
      "\n",
      "Attribute in nodes with depth <= 2:\n",
      "\t171 : Age [NUMERICAL]\n",
      "\t81 : Fare [NUMERICAL]\n",
      "\t40 : Sex [CATEGORICAL]\n",
      "\t34 : Name [CATEGORICAL_SET]\n",
      "\t13 : Embarked [CATEGORICAL]\n",
      "\t12 : Ticket_item [CATEGORICAL]\n",
      "\t11 : Ticket_number [CATEGORICAL]\n",
      "\t7 : Pclass [NUMERICAL]\n",
      "\t3 : Parch [NUMERICAL]\n",
      "\t1 : SibSp [NUMERICAL]\n",
      "\n",
      "Attribute in nodes with depth <= 3:\n",
      "\t349 : Age [NUMERICAL]\n",
      "\t199 : Fare [NUMERICAL]\n",
      "\t58 : Name [CATEGORICAL_SET]\n",
      "\t41 : Sex [CATEGORICAL]\n",
      "\t37 : Ticket_item [CATEGORICAL]\n",
      "\t24 : Ticket_number [CATEGORICAL]\n",
      "\t19 : Embarked [CATEGORICAL]\n",
      "\t13 : Parch [NUMERICAL]\n",
      "\t7 : Pclass [NUMERICAL]\n",
      "\t3 : SibSp [NUMERICAL]\n",
      "\n",
      "Attribute in nodes with depth <= 5:\n",
      "\t677 : Age [NUMERICAL]\n",
      "\t387 : Fare [NUMERICAL]\n",
      "\t97 : Name [CATEGORICAL_SET]\n",
      "\t66 : Ticket_item [CATEGORICAL]\n",
      "\t51 : Sex [CATEGORICAL]\n",
      "\t32 : Parch [NUMERICAL]\n",
      "\t27 : Ticket_number [CATEGORICAL]\n",
      "\t26 : Embarked [CATEGORICAL]\n",
      "\t14 : Pclass [NUMERICAL]\n",
      "\t8 : SibSp [NUMERICAL]\n",
      "\n",
      "Condition type in nodes:\n",
      "\t1118 : ObliqueCondition\n",
      "\t199 : ContainsBitmapCondition\n",
      "\t68 : ContainsCondition\n",
      "Condition type in nodes with depth <= 0:\n",
      "\t51 : ContainsBitmapCondition\n",
      "\t3 : ObliqueCondition\n",
      "Condition type in nodes with depth <= 1:\n",
      "\t98 : ObliqueCondition\n",
      "\t61 : ContainsBitmapCondition\n",
      "\t3 : ContainsCondition\n",
      "Condition type in nodes with depth <= 2:\n",
      "\t263 : ObliqueCondition\n",
      "\t94 : ContainsBitmapCondition\n",
      "\t16 : ContainsCondition\n",
      "Condition type in nodes with depth <= 3:\n",
      "\t571 : ObliqueCondition\n",
      "\t145 : ContainsBitmapCondition\n",
      "\t34 : ContainsCondition\n",
      "Condition type in nodes with depth <= 5:\n",
      "\t1118 : ObliqueCondition\n",
      "\t199 : ContainsBitmapCondition\n",
      "\t68 : ContainsCondition\n",
      "\n",
      "Training logs:\n",
      "Number of iteration to final model: 54\n",
      "\tIter:1 train-loss:1.267642 valid-loss:1.363407  train-accuracy:0.624531 valid-accuracy:0.543478\n",
      "\tIter:2 train-loss:1.216613 valid-loss:1.329323  train-accuracy:0.624531 valid-accuracy:0.543478\n",
      "\tIter:3 train-loss:1.169435 valid-loss:1.301666  train-accuracy:0.624531 valid-accuracy:0.543478\n",
      "\tIter:4 train-loss:1.121583 valid-loss:1.264140  train-accuracy:0.624531 valid-accuracy:0.543478\n",
      "\tIter:5 train-loss:1.079456 valid-loss:1.237068  train-accuracy:0.794743 valid-accuracy:0.717391\n",
      "\tIter:6 train-loss:1.043708 valid-loss:1.215828  train-accuracy:0.824781 valid-accuracy:0.717391\n",
      "\tIter:16 train-loss:0.791781 valid-loss:1.102193  train-accuracy:0.902378 valid-accuracy:0.739130\n",
      "\tIter:26 train-loss:0.651576 valid-loss:1.061744  train-accuracy:0.921151 valid-accuracy:0.771739\n",
      "\tIter:36 train-loss:0.564274 valid-loss:1.043167  train-accuracy:0.924906 valid-accuracy:0.760870\n",
      "\tIter:46 train-loss:0.494652 valid-loss:1.023862  train-accuracy:0.936170 valid-accuracy:0.760870\n",
      "\tIter:56 train-loss:0.442437 valid-loss:1.016976  train-accuracy:0.943680 valid-accuracy:0.771739\n",
      "\tIter:66 train-loss:0.405156 valid-loss:1.022475  train-accuracy:0.949937 valid-accuracy:0.782609\n",
      "\tIter:76 train-loss:0.374286 valid-loss:1.033977  train-accuracy:0.952441 valid-accuracy:0.771739\n",
      "\n"
     ]
    }
   ],
   "source": [
    "model.summary()"
   ]
  },
  {
   "cell_type": "markdown",
   "metadata": {
    "id": "ZHdRxeqCXqc3"
   },
   "source": [
    "# Make predictions"
   ]
  },
  {
   "cell_type": "code",
   "execution_count": null,
   "metadata": {
    "execution": {
     "iopub.execute_input": "2023-04-17T15:06:16.126941Z",
     "iopub.status.busy": "2023-04-17T15:06:16.126575Z",
     "iopub.status.idle": "2023-04-17T15:06:17.406876Z",
     "shell.execute_reply": "2023-04-17T15:06:17.405022Z",
     "shell.execute_reply.started": "2023-04-17T15:06:16.126904Z"
    },
    "id": "uN4vc5ptXqc3"
   },
   "outputs": [],
   "source": [
    "# def prediction_to_kaggle_format(model, threshold=0.5):\n",
    "#     proba_survive = model.predict(serving_ds, verbose=0)[:,0]\n",
    "#     return pd.DataFrame({\n",
    "#         \"PassengerId\": serving_df[\"PassengerId\"],\n",
    "#         \"Survived\": (proba_survive >= threshold).astype(int)\n",
    "#     })\n",
    "\n",
    "# def make_submission(kaggle_predictions):\n",
    "#     path=\"/kaggle/working/submission.csv\"\n",
    "#     kaggle_predictions.to_csv(path, index=False)\n",
    "#     print(f\"Submission exported to {path}\")\n",
    "\n",
    "# kaggle_predictions = prediction_to_kaggle_format(model)\n",
    "# make_submission(kaggle_predictions)\n",
    "# !head /kaggle/working/submission.csv"
   ]
  },
  {
   "cell_type": "markdown",
   "metadata": {
    "id": "1JuDZDkcXqc4"
   },
   "source": [
    "# Training a model with hyperparameter tunning\n",
    "\n",
    "Hyper-parameter tuning is enabled by specifying the tuner constructor argument of the model. The tuner object contains all the configuration of the tuner (search space, optimizer, trial and objective).\n"
   ]
  },
  {
   "cell_type": "code",
   "execution_count": 9,
   "metadata": {
    "id": "xF8eW-wnXqc4"
   },
   "outputs": [
    {
     "name": "stdout",
     "output_type": "stream",
     "text": [
      "Use /var/folders/4j/39rtwmqd5tg4g8dn1t6m037h0000gn/T/tmp0odci14c as temporary training directory\n"
     ]
    },
    {
     "name": "stderr",
     "output_type": "stream",
     "text": [
      "[WARNING 25-05-29 11:49:28.7941 PDT gradient_boosted_trees.cc:1840] \"goss_alpha\" set but \"sampling_method\" not equal to \"GOSS\".\n",
      "[WARNING 25-05-29 11:49:28.7941 PDT gradient_boosted_trees.cc:1851] \"goss_beta\" set but \"sampling_method\" not equal to \"GOSS\".\n",
      "[WARNING 25-05-29 11:49:28.7942 PDT gradient_boosted_trees.cc:1865] \"selective_gradient_boosting_ratio\" set but \"sampling_method\" not equal to \"SELGB\".\n",
      "[INFO 25-05-29 11:52:56.6647 PDT kernel.cc:1233] Loading model from path /var/folders/4j/39rtwmqd5tg4g8dn1t6m037h0000gn/T/tmp0odci14c/model/ with prefix c62b6a1b82724e4a\n",
      "[INFO 25-05-29 11:52:56.6783 PDT decision_forest.cc:734] Model loaded with 19 root(s), 1843 node(s), and 12 input feature(s).\n",
      "[INFO 25-05-29 11:52:56.6784 PDT abstract_model.cc:1344] Engine \"GradientBoostedTreesGeneric\" built\n",
      "[INFO 25-05-29 11:52:56.6785 PDT kernel.cc:1061] Use fast generic engine\n"
     ]
    },
    {
     "name": "stdout",
     "output_type": "stream",
     "text": [
      "Accuracy: 0.8767123222351074 Loss:0.6639896035194397\n"
     ]
    }
   ],
   "source": [
    "tuner = tfdf.tuner.RandomSearch(num_trials=1000)\n",
    "tuner.choice(\"min_examples\", [2, 5, 7, 10])\n",
    "tuner.choice(\"categorical_algorithm\", [\"CART\", \"RANDOM\"])\n",
    "\n",
    "local_search_space = tuner.choice(\"growing_strategy\", [\"LOCAL\"])\n",
    "local_search_space.choice(\"max_depth\", [3, 4, 5, 6, 8])\n",
    "\n",
    "global_search_space = tuner.choice(\"growing_strategy\", [\"BEST_FIRST_GLOBAL\"], merge=True)\n",
    "global_search_space.choice(\"max_num_nodes\", [16, 32, 64, 128, 256])\n",
    "\n",
    "#tuner.choice(\"use_hessian_gain\", [True, False])\n",
    "tuner.choice(\"shrinkage\", [0.02, 0.05, 0.10, 0.15])\n",
    "tuner.choice(\"num_candidate_attributes_ratio\", [0.2, 0.5, 0.9, 1.0])\n",
    "\n",
    "\n",
    "tuner.choice(\"split_axis\", [\"AXIS_ALIGNED\"])\n",
    "oblique_space = tuner.choice(\"split_axis\", [\"SPARSE_OBLIQUE\"], merge=True)\n",
    "oblique_space.choice(\"sparse_oblique_normalization\",\n",
    "                     [\"NONE\", \"STANDARD_DEVIATION\", \"MIN_MAX\"])\n",
    "oblique_space.choice(\"sparse_oblique_weights\", [\"BINARY\", \"CONTINUOUS\"])\n",
    "oblique_space.choice(\"sparse_oblique_num_projections_exponent\", [1.0, 1.5])\n",
    "\n",
    "# Tune the model. Notice the `tuner=tuner`.\n",
    "tuned_model = tfdf.keras.GradientBoostedTreesModel(tuner=tuner)\n",
    "tuned_model.fit(train_ds, verbose=0)\n",
    "\n",
    "tuned_self_evaluation = tuned_model.make_inspector().evaluation()\n",
    "print(f\"Accuracy: {tuned_self_evaluation.accuracy} Loss:{tuned_self_evaluation.loss}\")"
   ]
  },
  {
   "cell_type": "markdown",
   "metadata": {
    "id": "pII5jaiVXqc4"
   },
   "source": [
    "In the last line in the cell above, you can see the accuracy is higher than previously with default parameters and parameters set by hand.\n",
    "\n",
    "This is the main idea behing hyperparameter tuning.\n",
    "\n",
    "For more information you can follow this tutorial: [Automated hyper-parameter tuning](https://www.tensorflow.org/decision_forests/tutorials/automatic_tuning_colab)"
   ]
  },
  {
   "cell_type": "markdown",
   "metadata": {
    "id": "X-KP5MC-Xqc5"
   },
   "source": [
    "# Making an ensemble\n",
    "\n",
    "Here you'll create 100 models with different seeds and combine their results\n",
    "\n",
    "This approach removes a little bit the random aspects related to creating ML models\n",
    "\n",
    "In the GBT creation is used the `honest` parameter. It will use different training examples to infer the structure and the leaf values. This regularization technique trades examples for bias estimates."
   ]
  },
  {
   "cell_type": "code",
   "execution_count": 10,
   "metadata": {
    "id": "8pz1xNXhXqc5",
    "scrolled": true
   },
   "outputs": [
    {
     "name": "stdout",
     "output_type": "stream",
     "text": [
      "i:0\n"
     ]
    },
    {
     "name": "stderr",
     "output_type": "stream",
     "text": [
      "[WARNING 25-05-29 11:54:10.6607 PDT gradient_boosted_trees.cc:1840] \"goss_alpha\" set but \"sampling_method\" not equal to \"GOSS\".\n",
      "[WARNING 25-05-29 11:54:10.6608 PDT gradient_boosted_trees.cc:1851] \"goss_beta\" set but \"sampling_method\" not equal to \"GOSS\".\n",
      "[WARNING 25-05-29 11:54:10.6608 PDT gradient_boosted_trees.cc:1865] \"selective_gradient_boosting_ratio\" set but \"sampling_method\" not equal to \"SELGB\".\n",
      "[INFO 25-05-29 11:54:11.1246 PDT kernel.cc:1233] Loading model from path /var/folders/4j/39rtwmqd5tg4g8dn1t6m037h0000gn/T/tmpozkk89r8/model/ with prefix 7c3d7de0cdfb4428\n",
      "[INFO 25-05-29 11:54:11.1278 PDT quick_scorer_extended.cc:911] The binary was compiled without AVX2 support, but your CPU supports it. Enable it for faster model inference.\n",
      "[INFO 25-05-29 11:54:11.1281 PDT abstract_model.cc:1344] Engine \"GradientBoostedTreesQuickScorerExtended\" built\n",
      "[INFO 25-05-29 11:54:11.1282 PDT kernel.cc:1061] Use fast generic engine\n"
     ]
    },
    {
     "name": "stdout",
     "output_type": "stream",
     "text": [
      "WARNING:tensorflow:5 out of the last 5 calls to <function InferenceCoreModel.make_predict_function.<locals>.predict_function_trained at 0x13571f100> triggered tf.function retracing. Tracing is expensive and the excessive number of tracings could be due to (1) creating @tf.function repeatedly in a loop, (2) passing tensors with different shapes, (3) passing Python objects instead of tensors. For (1), please define your @tf.function outside of the loop. For (2), @tf.function has reduce_retracing=True option that can avoid unnecessary retracing. For (3), please refer to https://www.tensorflow.org/guide/function#controlling_retracing and https://www.tensorflow.org/api_docs/python/tf/function for  more details.\n"
     ]
    },
    {
     "name": "stderr",
     "output_type": "stream",
     "text": [
      "WARNING:tensorflow:5 out of the last 5 calls to <function InferenceCoreModel.make_predict_function.<locals>.predict_function_trained at 0x13571f100> triggered tf.function retracing. Tracing is expensive and the excessive number of tracings could be due to (1) creating @tf.function repeatedly in a loop, (2) passing tensors with different shapes, (3) passing Python objects instead of tensors. For (1), please define your @tf.function outside of the loop. For (2), @tf.function has reduce_retracing=True option that can avoid unnecessary retracing. For (3), please refer to https://www.tensorflow.org/guide/function#controlling_retracing and https://www.tensorflow.org/api_docs/python/tf/function for  more details.\n"
     ]
    },
    {
     "name": "stdout",
     "output_type": "stream",
     "text": [
      "i:1\n"
     ]
    },
    {
     "name": "stderr",
     "output_type": "stream",
     "text": [
      "[WARNING 25-05-29 11:54:11.5727 PDT gradient_boosted_trees.cc:1840] \"goss_alpha\" set but \"sampling_method\" not equal to \"GOSS\".\n",
      "[WARNING 25-05-29 11:54:11.5727 PDT gradient_boosted_trees.cc:1851] \"goss_beta\" set but \"sampling_method\" not equal to \"GOSS\".\n",
      "[WARNING 25-05-29 11:54:11.5727 PDT gradient_boosted_trees.cc:1865] \"selective_gradient_boosting_ratio\" set but \"sampling_method\" not equal to \"SELGB\".\n"
     ]
    },
    {
     "name": "stdout",
     "output_type": "stream",
     "text": [
      "WARNING:tensorflow:5 out of the last 5 calls to <function CoreModel._consumes_training_examples_until_eof at 0x134522a20> triggered tf.function retracing. Tracing is expensive and the excessive number of tracings could be due to (1) creating @tf.function repeatedly in a loop, (2) passing tensors with different shapes, (3) passing Python objects instead of tensors. For (1), please define your @tf.function outside of the loop. For (2), @tf.function has reduce_retracing=True option that can avoid unnecessary retracing. For (3), please refer to https://www.tensorflow.org/guide/function#controlling_retracing and https://www.tensorflow.org/api_docs/python/tf/function for  more details.\n"
     ]
    },
    {
     "name": "stderr",
     "output_type": "stream",
     "text": [
      "WARNING:tensorflow:5 out of the last 5 calls to <function CoreModel._consumes_training_examples_until_eof at 0x134522a20> triggered tf.function retracing. Tracing is expensive and the excessive number of tracings could be due to (1) creating @tf.function repeatedly in a loop, (2) passing tensors with different shapes, (3) passing Python objects instead of tensors. For (1), please define your @tf.function outside of the loop. For (2), @tf.function has reduce_retracing=True option that can avoid unnecessary retracing. For (3), please refer to https://www.tensorflow.org/guide/function#controlling_retracing and https://www.tensorflow.org/api_docs/python/tf/function for  more details.\n",
      "[INFO 25-05-29 11:54:12.0700 PDT kernel.cc:1233] Loading model from path /var/folders/4j/39rtwmqd5tg4g8dn1t6m037h0000gn/T/tmp_iwq59su/model/ with prefix 5d901b9939b54d9e\n",
      "[INFO 25-05-29 11:54:12.0782 PDT kernel.cc:1061] Use fast generic engine\n"
     ]
    },
    {
     "name": "stdout",
     "output_type": "stream",
     "text": [
      "WARNING:tensorflow:6 out of the last 6 calls to <function InferenceCoreModel.make_predict_function.<locals>.predict_function_trained at 0x134b95940> triggered tf.function retracing. Tracing is expensive and the excessive number of tracings could be due to (1) creating @tf.function repeatedly in a loop, (2) passing tensors with different shapes, (3) passing Python objects instead of tensors. For (1), please define your @tf.function outside of the loop. For (2), @tf.function has reduce_retracing=True option that can avoid unnecessary retracing. For (3), please refer to https://www.tensorflow.org/guide/function#controlling_retracing and https://www.tensorflow.org/api_docs/python/tf/function for  more details.\n"
     ]
    },
    {
     "name": "stderr",
     "output_type": "stream",
     "text": [
      "WARNING:tensorflow:6 out of the last 6 calls to <function InferenceCoreModel.make_predict_function.<locals>.predict_function_trained at 0x134b95940> triggered tf.function retracing. Tracing is expensive and the excessive number of tracings could be due to (1) creating @tf.function repeatedly in a loop, (2) passing tensors with different shapes, (3) passing Python objects instead of tensors. For (1), please define your @tf.function outside of the loop. For (2), @tf.function has reduce_retracing=True option that can avoid unnecessary retracing. For (3), please refer to https://www.tensorflow.org/guide/function#controlling_retracing and https://www.tensorflow.org/api_docs/python/tf/function for  more details.\n"
     ]
    },
    {
     "name": "stdout",
     "output_type": "stream",
     "text": [
      "WARNING:tensorflow:5 out of the last 8 calls to <function InferenceCoreModel.yggdrasil_model_path_tensor at 0x135786b60> triggered tf.function retracing. Tracing is expensive and the excessive number of tracings could be due to (1) creating @tf.function repeatedly in a loop, (2) passing tensors with different shapes, (3) passing Python objects instead of tensors. For (1), please define your @tf.function outside of the loop. For (2), @tf.function has reduce_retracing=True option that can avoid unnecessary retracing. For (3), please refer to https://www.tensorflow.org/guide/function#controlling_retracing and https://www.tensorflow.org/api_docs/python/tf/function for  more details.\n"
     ]
    },
    {
     "name": "stderr",
     "output_type": "stream",
     "text": [
      "WARNING:tensorflow:5 out of the last 8 calls to <function InferenceCoreModel.yggdrasil_model_path_tensor at 0x135786b60> triggered tf.function retracing. Tracing is expensive and the excessive number of tracings could be due to (1) creating @tf.function repeatedly in a loop, (2) passing tensors with different shapes, (3) passing Python objects instead of tensors. For (1), please define your @tf.function outside of the loop. For (2), @tf.function has reduce_retracing=True option that can avoid unnecessary retracing. For (3), please refer to https://www.tensorflow.org/guide/function#controlling_retracing and https://www.tensorflow.org/api_docs/python/tf/function for  more details.\n"
     ]
    },
    {
     "name": "stdout",
     "output_type": "stream",
     "text": [
      "i:2\n"
     ]
    },
    {
     "name": "stderr",
     "output_type": "stream",
     "text": [
      "[WARNING 25-05-29 11:54:12.4720 PDT gradient_boosted_trees.cc:1840] \"goss_alpha\" set but \"sampling_method\" not equal to \"GOSS\".\n",
      "[WARNING 25-05-29 11:54:12.4720 PDT gradient_boosted_trees.cc:1851] \"goss_beta\" set but \"sampling_method\" not equal to \"GOSS\".\n",
      "[WARNING 25-05-29 11:54:12.4721 PDT gradient_boosted_trees.cc:1865] \"selective_gradient_boosting_ratio\" set but \"sampling_method\" not equal to \"SELGB\".\n"
     ]
    },
    {
     "name": "stdout",
     "output_type": "stream",
     "text": [
      "WARNING:tensorflow:6 out of the last 6 calls to <function CoreModel._consumes_training_examples_until_eof at 0x134522a20> triggered tf.function retracing. Tracing is expensive and the excessive number of tracings could be due to (1) creating @tf.function repeatedly in a loop, (2) passing tensors with different shapes, (3) passing Python objects instead of tensors. For (1), please define your @tf.function outside of the loop. For (2), @tf.function has reduce_retracing=True option that can avoid unnecessary retracing. For (3), please refer to https://www.tensorflow.org/guide/function#controlling_retracing and https://www.tensorflow.org/api_docs/python/tf/function for  more details.\n"
     ]
    },
    {
     "name": "stderr",
     "output_type": "stream",
     "text": [
      "WARNING:tensorflow:6 out of the last 6 calls to <function CoreModel._consumes_training_examples_until_eof at 0x134522a20> triggered tf.function retracing. Tracing is expensive and the excessive number of tracings could be due to (1) creating @tf.function repeatedly in a loop, (2) passing tensors with different shapes, (3) passing Python objects instead of tensors. For (1), please define your @tf.function outside of the loop. For (2), @tf.function has reduce_retracing=True option that can avoid unnecessary retracing. For (3), please refer to https://www.tensorflow.org/guide/function#controlling_retracing and https://www.tensorflow.org/api_docs/python/tf/function for  more details.\n",
      "[INFO 25-05-29 11:54:12.9882 PDT kernel.cc:1233] Loading model from path /var/folders/4j/39rtwmqd5tg4g8dn1t6m037h0000gn/T/tmpl8u929n5/model/ with prefix 37114d60818d4a66\n",
      "[INFO 25-05-29 11:54:12.9967 PDT kernel.cc:1061] Use fast generic engine\n"
     ]
    },
    {
     "name": "stdout",
     "output_type": "stream",
     "text": [
      "WARNING:tensorflow:6 out of the last 9 calls to <function InferenceCoreModel.yggdrasil_model_path_tensor at 0x134b96b60> triggered tf.function retracing. Tracing is expensive and the excessive number of tracings could be due to (1) creating @tf.function repeatedly in a loop, (2) passing tensors with different shapes, (3) passing Python objects instead of tensors. For (1), please define your @tf.function outside of the loop. For (2), @tf.function has reduce_retracing=True option that can avoid unnecessary retracing. For (3), please refer to https://www.tensorflow.org/guide/function#controlling_retracing and https://www.tensorflow.org/api_docs/python/tf/function for  more details.\n"
     ]
    },
    {
     "name": "stderr",
     "output_type": "stream",
     "text": [
      "WARNING:tensorflow:6 out of the last 9 calls to <function InferenceCoreModel.yggdrasil_model_path_tensor at 0x134b96b60> triggered tf.function retracing. Tracing is expensive and the excessive number of tracings could be due to (1) creating @tf.function repeatedly in a loop, (2) passing tensors with different shapes, (3) passing Python objects instead of tensors. For (1), please define your @tf.function outside of the loop. For (2), @tf.function has reduce_retracing=True option that can avoid unnecessary retracing. For (3), please refer to https://www.tensorflow.org/guide/function#controlling_retracing and https://www.tensorflow.org/api_docs/python/tf/function for  more details.\n"
     ]
    },
    {
     "name": "stdout",
     "output_type": "stream",
     "text": [
      "i:3\n"
     ]
    },
    {
     "name": "stderr",
     "output_type": "stream",
     "text": [
      "[WARNING 25-05-29 11:54:13.4187 PDT gradient_boosted_trees.cc:1840] \"goss_alpha\" set but \"sampling_method\" not equal to \"GOSS\".\n",
      "[WARNING 25-05-29 11:54:13.4187 PDT gradient_boosted_trees.cc:1851] \"goss_beta\" set but \"sampling_method\" not equal to \"GOSS\".\n",
      "[WARNING 25-05-29 11:54:13.4187 PDT gradient_boosted_trees.cc:1865] \"selective_gradient_boosting_ratio\" set but \"sampling_method\" not equal to \"SELGB\".\n",
      "[INFO 25-05-29 11:54:13.8658 PDT kernel.cc:1233] Loading model from path /var/folders/4j/39rtwmqd5tg4g8dn1t6m037h0000gn/T/tmp5_s2cle8/model/ with prefix b777c04ca8f74d41\n",
      "[INFO 25-05-29 11:54:13.8721 PDT kernel.cc:1061] Use fast generic engine\n"
     ]
    },
    {
     "name": "stdout",
     "output_type": "stream",
     "text": [
      "i:4\n"
     ]
    },
    {
     "name": "stderr",
     "output_type": "stream",
     "text": [
      "[WARNING 25-05-29 11:54:14.2623 PDT gradient_boosted_trees.cc:1840] \"goss_alpha\" set but \"sampling_method\" not equal to \"GOSS\".\n",
      "[WARNING 25-05-29 11:54:14.2623 PDT gradient_boosted_trees.cc:1851] \"goss_beta\" set but \"sampling_method\" not equal to \"GOSS\".\n",
      "[WARNING 25-05-29 11:54:14.2623 PDT gradient_boosted_trees.cc:1865] \"selective_gradient_boosting_ratio\" set but \"sampling_method\" not equal to \"SELGB\".\n",
      "[INFO 25-05-29 11:54:14.6415 PDT kernel.cc:1233] Loading model from path /var/folders/4j/39rtwmqd5tg4g8dn1t6m037h0000gn/T/tmp48a_0po7/model/ with prefix 46425c05c96443ae\n",
      "[INFO 25-05-29 11:54:14.6453 PDT kernel.cc:1061] Use fast generic engine\n"
     ]
    },
    {
     "name": "stdout",
     "output_type": "stream",
     "text": [
      "i:5\n"
     ]
    },
    {
     "name": "stderr",
     "output_type": "stream",
     "text": [
      "[WARNING 25-05-29 11:54:15.0119 PDT gradient_boosted_trees.cc:1840] \"goss_alpha\" set but \"sampling_method\" not equal to \"GOSS\".\n",
      "[WARNING 25-05-29 11:54:15.0119 PDT gradient_boosted_trees.cc:1851] \"goss_beta\" set but \"sampling_method\" not equal to \"GOSS\".\n",
      "[WARNING 25-05-29 11:54:15.0119 PDT gradient_boosted_trees.cc:1865] \"selective_gradient_boosting_ratio\" set but \"sampling_method\" not equal to \"SELGB\".\n",
      "[INFO 25-05-29 11:54:15.3996 PDT kernel.cc:1233] Loading model from path /var/folders/4j/39rtwmqd5tg4g8dn1t6m037h0000gn/T/tmp3g85gs2w/model/ with prefix 8b728ef7a0bd47c5\n",
      "[INFO 25-05-29 11:54:15.4039 PDT kernel.cc:1061] Use fast generic engine\n"
     ]
    },
    {
     "name": "stdout",
     "output_type": "stream",
     "text": [
      "i:6\n"
     ]
    },
    {
     "name": "stderr",
     "output_type": "stream",
     "text": [
      "[WARNING 25-05-29 11:54:15.7905 PDT gradient_boosted_trees.cc:1840] \"goss_alpha\" set but \"sampling_method\" not equal to \"GOSS\".\n",
      "[WARNING 25-05-29 11:54:15.7905 PDT gradient_boosted_trees.cc:1851] \"goss_beta\" set but \"sampling_method\" not equal to \"GOSS\".\n",
      "[WARNING 25-05-29 11:54:15.7905 PDT gradient_boosted_trees.cc:1865] \"selective_gradient_boosting_ratio\" set but \"sampling_method\" not equal to \"SELGB\".\n",
      "[INFO 25-05-29 11:54:16.2398 PDT kernel.cc:1233] Loading model from path /var/folders/4j/39rtwmqd5tg4g8dn1t6m037h0000gn/T/tmpv061vyil/model/ with prefix 7c159e69c98f4aea\n",
      "[INFO 25-05-29 11:54:16.2470 PDT kernel.cc:1061] Use fast generic engine\n"
     ]
    },
    {
     "name": "stdout",
     "output_type": "stream",
     "text": [
      "i:7\n"
     ]
    },
    {
     "name": "stderr",
     "output_type": "stream",
     "text": [
      "[WARNING 25-05-29 11:54:16.6282 PDT gradient_boosted_trees.cc:1840] \"goss_alpha\" set but \"sampling_method\" not equal to \"GOSS\".\n",
      "[WARNING 25-05-29 11:54:16.6283 PDT gradient_boosted_trees.cc:1851] \"goss_beta\" set but \"sampling_method\" not equal to \"GOSS\".\n",
      "[WARNING 25-05-29 11:54:16.6283 PDT gradient_boosted_trees.cc:1865] \"selective_gradient_boosting_ratio\" set but \"sampling_method\" not equal to \"SELGB\".\n",
      "[INFO 25-05-29 11:54:17.0389 PDT kernel.cc:1233] Loading model from path /var/folders/4j/39rtwmqd5tg4g8dn1t6m037h0000gn/T/tmpmrq_2ypm/model/ with prefix 6d96f9f1fd1b47be\n",
      "[INFO 25-05-29 11:54:17.0438 PDT kernel.cc:1061] Use fast generic engine\n"
     ]
    },
    {
     "name": "stdout",
     "output_type": "stream",
     "text": [
      "i:8\n"
     ]
    },
    {
     "name": "stderr",
     "output_type": "stream",
     "text": [
      "[WARNING 25-05-29 11:54:17.4212 PDT gradient_boosted_trees.cc:1840] \"goss_alpha\" set but \"sampling_method\" not equal to \"GOSS\".\n",
      "[WARNING 25-05-29 11:54:17.4212 PDT gradient_boosted_trees.cc:1851] \"goss_beta\" set but \"sampling_method\" not equal to \"GOSS\".\n",
      "[WARNING 25-05-29 11:54:17.4213 PDT gradient_boosted_trees.cc:1865] \"selective_gradient_boosting_ratio\" set but \"sampling_method\" not equal to \"SELGB\".\n",
      "[INFO 25-05-29 11:54:17.9273 PDT kernel.cc:1233] Loading model from path /var/folders/4j/39rtwmqd5tg4g8dn1t6m037h0000gn/T/tmpy0v2z7ra/model/ with prefix 182f8b3582334a59\n",
      "[INFO 25-05-29 11:54:17.9365 PDT kernel.cc:1061] Use fast generic engine\n"
     ]
    },
    {
     "name": "stdout",
     "output_type": "stream",
     "text": [
      "i:9\n"
     ]
    },
    {
     "name": "stderr",
     "output_type": "stream",
     "text": [
      "[WARNING 25-05-29 11:54:18.3032 PDT gradient_boosted_trees.cc:1840] \"goss_alpha\" set but \"sampling_method\" not equal to \"GOSS\".\n",
      "[WARNING 25-05-29 11:54:18.3032 PDT gradient_boosted_trees.cc:1851] \"goss_beta\" set but \"sampling_method\" not equal to \"GOSS\".\n",
      "[WARNING 25-05-29 11:54:18.3032 PDT gradient_boosted_trees.cc:1865] \"selective_gradient_boosting_ratio\" set but \"sampling_method\" not equal to \"SELGB\".\n",
      "[INFO 25-05-29 11:54:18.8379 PDT kernel.cc:1233] Loading model from path /var/folders/4j/39rtwmqd5tg4g8dn1t6m037h0000gn/T/tmpi46fe86v/model/ with prefix 584184aec2424596\n",
      "[INFO 25-05-29 11:54:18.8487 PDT kernel.cc:1061] Use fast generic engine\n"
     ]
    },
    {
     "name": "stdout",
     "output_type": "stream",
     "text": [
      "i:10\n"
     ]
    },
    {
     "name": "stderr",
     "output_type": "stream",
     "text": [
      "[WARNING 25-05-29 11:54:19.2728 PDT gradient_boosted_trees.cc:1840] \"goss_alpha\" set but \"sampling_method\" not equal to \"GOSS\".\n",
      "[WARNING 25-05-29 11:54:19.2729 PDT gradient_boosted_trees.cc:1851] \"goss_beta\" set but \"sampling_method\" not equal to \"GOSS\".\n",
      "[WARNING 25-05-29 11:54:19.2729 PDT gradient_boosted_trees.cc:1865] \"selective_gradient_boosting_ratio\" set but \"sampling_method\" not equal to \"SELGB\".\n",
      "[INFO 25-05-29 11:54:19.6804 PDT kernel.cc:1233] Loading model from path /var/folders/4j/39rtwmqd5tg4g8dn1t6m037h0000gn/T/tmp39q3wj6a/model/ with prefix 4ea1d9770f304c5e\n",
      "[INFO 25-05-29 11:54:19.6857 PDT kernel.cc:1061] Use fast generic engine\n"
     ]
    },
    {
     "name": "stdout",
     "output_type": "stream",
     "text": [
      "i:11\n"
     ]
    },
    {
     "name": "stderr",
     "output_type": "stream",
     "text": [
      "[WARNING 25-05-29 11:54:20.6071 PDT gradient_boosted_trees.cc:1840] \"goss_alpha\" set but \"sampling_method\" not equal to \"GOSS\".\n",
      "[WARNING 25-05-29 11:54:20.6072 PDT gradient_boosted_trees.cc:1851] \"goss_beta\" set but \"sampling_method\" not equal to \"GOSS\".\n",
      "[WARNING 25-05-29 11:54:20.6072 PDT gradient_boosted_trees.cc:1865] \"selective_gradient_boosting_ratio\" set but \"sampling_method\" not equal to \"SELGB\".\n",
      "[INFO 25-05-29 11:54:21.1892 PDT kernel.cc:1233] Loading model from path /var/folders/4j/39rtwmqd5tg4g8dn1t6m037h0000gn/T/tmp46jlbikl/model/ with prefix de04081774a34b52\n",
      "[INFO 25-05-29 11:54:21.2005 PDT abstract_model.cc:1344] Engine \"GradientBoostedTreesQuickScorerExtended\" built\n",
      "[INFO 25-05-29 11:54:21.2005 PDT kernel.cc:1061] Use fast generic engine\n"
     ]
    },
    {
     "name": "stdout",
     "output_type": "stream",
     "text": [
      "i:12\n"
     ]
    },
    {
     "name": "stderr",
     "output_type": "stream",
     "text": [
      "[WARNING 25-05-29 11:54:21.6340 PDT gradient_boosted_trees.cc:1840] \"goss_alpha\" set but \"sampling_method\" not equal to \"GOSS\".\n",
      "[WARNING 25-05-29 11:54:21.6341 PDT gradient_boosted_trees.cc:1851] \"goss_beta\" set but \"sampling_method\" not equal to \"GOSS\".\n",
      "[WARNING 25-05-29 11:54:21.6341 PDT gradient_boosted_trees.cc:1865] \"selective_gradient_boosting_ratio\" set but \"sampling_method\" not equal to \"SELGB\".\n",
      "[INFO 25-05-29 11:54:22.0933 PDT kernel.cc:1233] Loading model from path /var/folders/4j/39rtwmqd5tg4g8dn1t6m037h0000gn/T/tmpob83kmmj/model/ with prefix b4ab1b3eb235444b\n",
      "[INFO 25-05-29 11:54:22.1012 PDT kernel.cc:1061] Use fast generic engine\n"
     ]
    },
    {
     "name": "stdout",
     "output_type": "stream",
     "text": [
      "i:13\n"
     ]
    },
    {
     "name": "stderr",
     "output_type": "stream",
     "text": [
      "[WARNING 25-05-29 11:54:22.4958 PDT gradient_boosted_trees.cc:1840] \"goss_alpha\" set but \"sampling_method\" not equal to \"GOSS\".\n",
      "[WARNING 25-05-29 11:54:22.4959 PDT gradient_boosted_trees.cc:1851] \"goss_beta\" set but \"sampling_method\" not equal to \"GOSS\".\n",
      "[WARNING 25-05-29 11:54:22.4959 PDT gradient_boosted_trees.cc:1865] \"selective_gradient_boosting_ratio\" set but \"sampling_method\" not equal to \"SELGB\".\n",
      "[INFO 25-05-29 11:54:23.2651 PDT kernel.cc:1233] Loading model from path /var/folders/4j/39rtwmqd5tg4g8dn1t6m037h0000gn/T/tmpkmnnl_r_/model/ with prefix 4a0ed20851ec4916\n",
      "[INFO 25-05-29 11:54:23.2871 PDT kernel.cc:1061] Use fast generic engine\n"
     ]
    },
    {
     "name": "stdout",
     "output_type": "stream",
     "text": [
      "i:14\n"
     ]
    },
    {
     "name": "stderr",
     "output_type": "stream",
     "text": [
      "[WARNING 25-05-29 11:54:23.6619 PDT gradient_boosted_trees.cc:1840] \"goss_alpha\" set but \"sampling_method\" not equal to \"GOSS\".\n",
      "[WARNING 25-05-29 11:54:23.6619 PDT gradient_boosted_trees.cc:1851] \"goss_beta\" set but \"sampling_method\" not equal to \"GOSS\".\n",
      "[WARNING 25-05-29 11:54:23.6620 PDT gradient_boosted_trees.cc:1865] \"selective_gradient_boosting_ratio\" set but \"sampling_method\" not equal to \"SELGB\".\n",
      "[INFO 25-05-29 11:54:24.0986 PDT kernel.cc:1233] Loading model from path /var/folders/4j/39rtwmqd5tg4g8dn1t6m037h0000gn/T/tmp6qc9v600/model/ with prefix 05b5ff58ca654c23\n",
      "[INFO 25-05-29 11:54:24.1048 PDT kernel.cc:1061] Use fast generic engine\n"
     ]
    },
    {
     "name": "stdout",
     "output_type": "stream",
     "text": [
      "i:15\n"
     ]
    },
    {
     "name": "stderr",
     "output_type": "stream",
     "text": [
      "[WARNING 25-05-29 11:54:24.4942 PDT gradient_boosted_trees.cc:1840] \"goss_alpha\" set but \"sampling_method\" not equal to \"GOSS\".\n",
      "[WARNING 25-05-29 11:54:24.4943 PDT gradient_boosted_trees.cc:1851] \"goss_beta\" set but \"sampling_method\" not equal to \"GOSS\".\n",
      "[WARNING 25-05-29 11:54:24.4943 PDT gradient_boosted_trees.cc:1865] \"selective_gradient_boosting_ratio\" set but \"sampling_method\" not equal to \"SELGB\".\n",
      "[INFO 25-05-29 11:54:24.8904 PDT kernel.cc:1233] Loading model from path /var/folders/4j/39rtwmqd5tg4g8dn1t6m037h0000gn/T/tmp9k6lxerd/model/ with prefix 739239bf4d024357\n",
      "[INFO 25-05-29 11:54:24.8948 PDT kernel.cc:1061] Use fast generic engine\n"
     ]
    },
    {
     "name": "stdout",
     "output_type": "stream",
     "text": [
      "i:16\n"
     ]
    },
    {
     "name": "stderr",
     "output_type": "stream",
     "text": [
      "[WARNING 25-05-29 11:54:25.2543 PDT gradient_boosted_trees.cc:1840] \"goss_alpha\" set but \"sampling_method\" not equal to \"GOSS\".\n",
      "[WARNING 25-05-29 11:54:25.2544 PDT gradient_boosted_trees.cc:1851] \"goss_beta\" set but \"sampling_method\" not equal to \"GOSS\".\n",
      "[WARNING 25-05-29 11:54:25.2544 PDT gradient_boosted_trees.cc:1865] \"selective_gradient_boosting_ratio\" set but \"sampling_method\" not equal to \"SELGB\".\n",
      "[INFO 25-05-29 11:54:25.7257 PDT kernel.cc:1233] Loading model from path /var/folders/4j/39rtwmqd5tg4g8dn1t6m037h0000gn/T/tmpk8xg26m9/model/ with prefix 325b8e131bee4d03\n",
      "[INFO 25-05-29 11:54:25.7339 PDT kernel.cc:1061] Use fast generic engine\n"
     ]
    },
    {
     "name": "stdout",
     "output_type": "stream",
     "text": [
      "i:17\n"
     ]
    },
    {
     "name": "stderr",
     "output_type": "stream",
     "text": [
      "[WARNING 25-05-29 11:54:26.1561 PDT gradient_boosted_trees.cc:1840] \"goss_alpha\" set but \"sampling_method\" not equal to \"GOSS\".\n",
      "[WARNING 25-05-29 11:54:26.1562 PDT gradient_boosted_trees.cc:1851] \"goss_beta\" set but \"sampling_method\" not equal to \"GOSS\".\n",
      "[WARNING 25-05-29 11:54:26.1562 PDT gradient_boosted_trees.cc:1865] \"selective_gradient_boosting_ratio\" set but \"sampling_method\" not equal to \"SELGB\".\n",
      "[INFO 25-05-29 11:54:26.5313 PDT kernel.cc:1233] Loading model from path /var/folders/4j/39rtwmqd5tg4g8dn1t6m037h0000gn/T/tmp2ui33_1s/model/ with prefix 3a7a9e9e9bca4648\n",
      "[INFO 25-05-29 11:54:26.5360 PDT kernel.cc:1061] Use fast generic engine\n"
     ]
    },
    {
     "name": "stdout",
     "output_type": "stream",
     "text": [
      "i:18\n"
     ]
    },
    {
     "name": "stderr",
     "output_type": "stream",
     "text": [
      "[WARNING 25-05-29 11:54:26.8955 PDT gradient_boosted_trees.cc:1840] \"goss_alpha\" set but \"sampling_method\" not equal to \"GOSS\".\n",
      "[WARNING 25-05-29 11:54:26.8955 PDT gradient_boosted_trees.cc:1851] \"goss_beta\" set but \"sampling_method\" not equal to \"GOSS\".\n",
      "[WARNING 25-05-29 11:54:26.8955 PDT gradient_boosted_trees.cc:1865] \"selective_gradient_boosting_ratio\" set but \"sampling_method\" not equal to \"SELGB\".\n",
      "[INFO 25-05-29 11:54:27.3974 PDT kernel.cc:1233] Loading model from path /var/folders/4j/39rtwmqd5tg4g8dn1t6m037h0000gn/T/tmprzb0zxir/model/ with prefix 2081c1e4defa4d54\n",
      "[INFO 25-05-29 11:54:27.4067 PDT kernel.cc:1061] Use fast generic engine\n"
     ]
    },
    {
     "name": "stdout",
     "output_type": "stream",
     "text": [
      "i:19\n"
     ]
    },
    {
     "name": "stderr",
     "output_type": "stream",
     "text": [
      "[WARNING 25-05-29 11:54:27.8362 PDT gradient_boosted_trees.cc:1840] \"goss_alpha\" set but \"sampling_method\" not equal to \"GOSS\".\n",
      "[WARNING 25-05-29 11:54:27.8363 PDT gradient_boosted_trees.cc:1851] \"goss_beta\" set but \"sampling_method\" not equal to \"GOSS\".\n",
      "[WARNING 25-05-29 11:54:27.8363 PDT gradient_boosted_trees.cc:1865] \"selective_gradient_boosting_ratio\" set but \"sampling_method\" not equal to \"SELGB\".\n",
      "[INFO 25-05-29 11:54:28.3317 PDT kernel.cc:1233] Loading model from path /var/folders/4j/39rtwmqd5tg4g8dn1t6m037h0000gn/T/tmpzpq105r9/model/ with prefix ac7570f38c2849a9\n",
      "[INFO 25-05-29 11:54:28.3398 PDT kernel.cc:1061] Use fast generic engine\n"
     ]
    },
    {
     "name": "stdout",
     "output_type": "stream",
     "text": [
      "i:20\n"
     ]
    },
    {
     "name": "stderr",
     "output_type": "stream",
     "text": [
      "[WARNING 25-05-29 11:54:28.7362 PDT gradient_boosted_trees.cc:1840] \"goss_alpha\" set but \"sampling_method\" not equal to \"GOSS\".\n",
      "[WARNING 25-05-29 11:54:28.7362 PDT gradient_boosted_trees.cc:1851] \"goss_beta\" set but \"sampling_method\" not equal to \"GOSS\".\n",
      "[WARNING 25-05-29 11:54:28.7363 PDT gradient_boosted_trees.cc:1865] \"selective_gradient_boosting_ratio\" set but \"sampling_method\" not equal to \"SELGB\".\n",
      "[INFO 25-05-29 11:54:29.1353 PDT kernel.cc:1233] Loading model from path /var/folders/4j/39rtwmqd5tg4g8dn1t6m037h0000gn/T/tmpvpxrqzu5/model/ with prefix 819e0eaa06934496\n",
      "[INFO 25-05-29 11:54:29.1400 PDT kernel.cc:1061] Use fast generic engine\n"
     ]
    },
    {
     "name": "stdout",
     "output_type": "stream",
     "text": [
      "i:21\n"
     ]
    },
    {
     "name": "stderr",
     "output_type": "stream",
     "text": [
      "[WARNING 25-05-29 11:54:29.5079 PDT gradient_boosted_trees.cc:1840] \"goss_alpha\" set but \"sampling_method\" not equal to \"GOSS\".\n",
      "[WARNING 25-05-29 11:54:29.5079 PDT gradient_boosted_trees.cc:1851] \"goss_beta\" set but \"sampling_method\" not equal to \"GOSS\".\n",
      "[WARNING 25-05-29 11:54:29.5079 PDT gradient_boosted_trees.cc:1865] \"selective_gradient_boosting_ratio\" set but \"sampling_method\" not equal to \"SELGB\".\n",
      "[INFO 25-05-29 11:54:29.8959 PDT kernel.cc:1233] Loading model from path /var/folders/4j/39rtwmqd5tg4g8dn1t6m037h0000gn/T/tmpin823g1w/model/ with prefix 05dfe676fb2b46f8\n",
      "[INFO 25-05-29 11:54:29.9004 PDT kernel.cc:1061] Use fast generic engine\n"
     ]
    },
    {
     "name": "stdout",
     "output_type": "stream",
     "text": [
      "i:22\n"
     ]
    },
    {
     "name": "stderr",
     "output_type": "stream",
     "text": [
      "[WARNING 25-05-29 11:54:30.2538 PDT gradient_boosted_trees.cc:1840] \"goss_alpha\" set but \"sampling_method\" not equal to \"GOSS\".\n",
      "[WARNING 25-05-29 11:54:30.2538 PDT gradient_boosted_trees.cc:1851] \"goss_beta\" set but \"sampling_method\" not equal to \"GOSS\".\n",
      "[WARNING 25-05-29 11:54:30.2538 PDT gradient_boosted_trees.cc:1865] \"selective_gradient_boosting_ratio\" set but \"sampling_method\" not equal to \"SELGB\".\n",
      "[INFO 25-05-29 11:54:30.6844 PDT kernel.cc:1233] Loading model from path /var/folders/4j/39rtwmqd5tg4g8dn1t6m037h0000gn/T/tmphktcbxu6/model/ with prefix e6463628783e4550\n",
      "[INFO 25-05-29 11:54:30.6914 PDT kernel.cc:1061] Use fast generic engine\n"
     ]
    },
    {
     "name": "stdout",
     "output_type": "stream",
     "text": [
      "i:23\n"
     ]
    },
    {
     "name": "stderr",
     "output_type": "stream",
     "text": [
      "[WARNING 25-05-29 11:54:31.0513 PDT gradient_boosted_trees.cc:1840] \"goss_alpha\" set but \"sampling_method\" not equal to \"GOSS\".\n",
      "[WARNING 25-05-29 11:54:31.0513 PDT gradient_boosted_trees.cc:1851] \"goss_beta\" set but \"sampling_method\" not equal to \"GOSS\".\n",
      "[WARNING 25-05-29 11:54:31.0513 PDT gradient_boosted_trees.cc:1865] \"selective_gradient_boosting_ratio\" set but \"sampling_method\" not equal to \"SELGB\".\n",
      "[INFO 25-05-29 11:54:31.4338 PDT kernel.cc:1233] Loading model from path /var/folders/4j/39rtwmqd5tg4g8dn1t6m037h0000gn/T/tmpweoab0mw/model/ with prefix b6260ed4292b47c1\n",
      "[INFO 25-05-29 11:54:31.4394 PDT abstract_model.cc:1344] Engine \"GradientBoostedTreesQuickScorerExtended\" built\n",
      "[INFO 25-05-29 11:54:31.4394 PDT kernel.cc:1061] Use fast generic engine\n"
     ]
    },
    {
     "name": "stdout",
     "output_type": "stream",
     "text": [
      "i:24\n"
     ]
    },
    {
     "name": "stderr",
     "output_type": "stream",
     "text": [
      "[WARNING 25-05-29 11:54:31.7953 PDT gradient_boosted_trees.cc:1840] \"goss_alpha\" set but \"sampling_method\" not equal to \"GOSS\".\n",
      "[WARNING 25-05-29 11:54:31.7953 PDT gradient_boosted_trees.cc:1851] \"goss_beta\" set but \"sampling_method\" not equal to \"GOSS\".\n",
      "[WARNING 25-05-29 11:54:31.7953 PDT gradient_boosted_trees.cc:1865] \"selective_gradient_boosting_ratio\" set but \"sampling_method\" not equal to \"SELGB\".\n",
      "[INFO 25-05-29 11:54:32.1755 PDT kernel.cc:1233] Loading model from path /var/folders/4j/39rtwmqd5tg4g8dn1t6m037h0000gn/T/tmpvpurxicf/model/ with prefix 4775ad9f4c304536\n",
      "[INFO 25-05-29 11:54:32.1807 PDT kernel.cc:1061] Use fast generic engine\n"
     ]
    },
    {
     "name": "stdout",
     "output_type": "stream",
     "text": [
      "i:25\n"
     ]
    },
    {
     "name": "stderr",
     "output_type": "stream",
     "text": [
      "[WARNING 25-05-29 11:54:32.5364 PDT gradient_boosted_trees.cc:1840] \"goss_alpha\" set but \"sampling_method\" not equal to \"GOSS\".\n",
      "[WARNING 25-05-29 11:54:32.5365 PDT gradient_boosted_trees.cc:1851] \"goss_beta\" set but \"sampling_method\" not equal to \"GOSS\".\n",
      "[WARNING 25-05-29 11:54:32.5365 PDT gradient_boosted_trees.cc:1865] \"selective_gradient_boosting_ratio\" set but \"sampling_method\" not equal to \"SELGB\".\n",
      "[INFO 25-05-29 11:54:32.9661 PDT kernel.cc:1233] Loading model from path /var/folders/4j/39rtwmqd5tg4g8dn1t6m037h0000gn/T/tmp8cwe144a/model/ with prefix 9e0aab3c219a4cc8\n",
      "[INFO 25-05-29 11:54:32.9729 PDT kernel.cc:1061] Use fast generic engine\n"
     ]
    },
    {
     "name": "stdout",
     "output_type": "stream",
     "text": [
      "i:26\n"
     ]
    },
    {
     "name": "stderr",
     "output_type": "stream",
     "text": [
      "[WARNING 25-05-29 11:54:33.3387 PDT gradient_boosted_trees.cc:1840] \"goss_alpha\" set but \"sampling_method\" not equal to \"GOSS\".\n",
      "[WARNING 25-05-29 11:54:33.3387 PDT gradient_boosted_trees.cc:1851] \"goss_beta\" set but \"sampling_method\" not equal to \"GOSS\".\n",
      "[WARNING 25-05-29 11:54:33.3387 PDT gradient_boosted_trees.cc:1865] \"selective_gradient_boosting_ratio\" set but \"sampling_method\" not equal to \"SELGB\".\n",
      "[INFO 25-05-29 11:54:33.7100 PDT kernel.cc:1233] Loading model from path /var/folders/4j/39rtwmqd5tg4g8dn1t6m037h0000gn/T/tmpemwbbqxv/model/ with prefix d507ac5f047f448a\n",
      "[INFO 25-05-29 11:54:33.7139 PDT kernel.cc:1061] Use fast generic engine\n"
     ]
    },
    {
     "name": "stdout",
     "output_type": "stream",
     "text": [
      "i:27\n"
     ]
    },
    {
     "name": "stderr",
     "output_type": "stream",
     "text": [
      "[WARNING 25-05-29 11:54:34.0763 PDT gradient_boosted_trees.cc:1840] \"goss_alpha\" set but \"sampling_method\" not equal to \"GOSS\".\n",
      "[WARNING 25-05-29 11:54:34.0764 PDT gradient_boosted_trees.cc:1851] \"goss_beta\" set but \"sampling_method\" not equal to \"GOSS\".\n",
      "[WARNING 25-05-29 11:54:34.0764 PDT gradient_boosted_trees.cc:1865] \"selective_gradient_boosting_ratio\" set but \"sampling_method\" not equal to \"SELGB\".\n",
      "[INFO 25-05-29 11:54:34.5711 PDT kernel.cc:1233] Loading model from path /var/folders/4j/39rtwmqd5tg4g8dn1t6m037h0000gn/T/tmpzuhs9dxi/model/ with prefix 164df9d326d44758\n",
      "[INFO 25-05-29 11:54:34.5791 PDT kernel.cc:1061] Use fast generic engine\n"
     ]
    },
    {
     "name": "stdout",
     "output_type": "stream",
     "text": [
      "i:28\n"
     ]
    },
    {
     "name": "stderr",
     "output_type": "stream",
     "text": [
      "[WARNING 25-05-29 11:54:34.9346 PDT gradient_boosted_trees.cc:1840] \"goss_alpha\" set but \"sampling_method\" not equal to \"GOSS\".\n",
      "[WARNING 25-05-29 11:54:34.9347 PDT gradient_boosted_trees.cc:1851] \"goss_beta\" set but \"sampling_method\" not equal to \"GOSS\".\n",
      "[WARNING 25-05-29 11:54:34.9347 PDT gradient_boosted_trees.cc:1865] \"selective_gradient_boosting_ratio\" set but \"sampling_method\" not equal to \"SELGB\".\n",
      "[INFO 25-05-29 11:54:35.2701 PDT kernel.cc:1233] Loading model from path /var/folders/4j/39rtwmqd5tg4g8dn1t6m037h0000gn/T/tmp8qwrlwov/model/ with prefix ccf6566421c94a03\n",
      "[INFO 25-05-29 11:54:35.2730 PDT kernel.cc:1061] Use fast generic engine\n"
     ]
    },
    {
     "name": "stdout",
     "output_type": "stream",
     "text": [
      "i:29\n"
     ]
    },
    {
     "name": "stderr",
     "output_type": "stream",
     "text": [
      "[WARNING 25-05-29 11:54:35.6364 PDT gradient_boosted_trees.cc:1840] \"goss_alpha\" set but \"sampling_method\" not equal to \"GOSS\".\n",
      "[WARNING 25-05-29 11:54:35.6364 PDT gradient_boosted_trees.cc:1851] \"goss_beta\" set but \"sampling_method\" not equal to \"GOSS\".\n",
      "[WARNING 25-05-29 11:54:35.6364 PDT gradient_boosted_trees.cc:1865] \"selective_gradient_boosting_ratio\" set but \"sampling_method\" not equal to \"SELGB\".\n",
      "[INFO 25-05-29 11:54:36.0142 PDT kernel.cc:1233] Loading model from path /var/folders/4j/39rtwmqd5tg4g8dn1t6m037h0000gn/T/tmpnq1tdnrq/model/ with prefix a717a36b2f6a4f1c\n",
      "[INFO 25-05-29 11:54:36.0186 PDT kernel.cc:1061] Use fast generic engine\n"
     ]
    },
    {
     "name": "stdout",
     "output_type": "stream",
     "text": [
      "i:30\n"
     ]
    },
    {
     "name": "stderr",
     "output_type": "stream",
     "text": [
      "[WARNING 25-05-29 11:54:36.6908 PDT gradient_boosted_trees.cc:1840] \"goss_alpha\" set but \"sampling_method\" not equal to \"GOSS\".\n",
      "[WARNING 25-05-29 11:54:36.6909 PDT gradient_boosted_trees.cc:1851] \"goss_beta\" set but \"sampling_method\" not equal to \"GOSS\".\n",
      "[WARNING 25-05-29 11:54:36.6909 PDT gradient_boosted_trees.cc:1865] \"selective_gradient_boosting_ratio\" set but \"sampling_method\" not equal to \"SELGB\".\n",
      "[INFO 25-05-29 11:54:37.2094 PDT kernel.cc:1233] Loading model from path /var/folders/4j/39rtwmqd5tg4g8dn1t6m037h0000gn/T/tmpw94h1pbd/model/ with prefix 26b35e889deb4b2d\n",
      "[INFO 25-05-29 11:54:37.2175 PDT kernel.cc:1061] Use fast generic engine\n"
     ]
    },
    {
     "name": "stdout",
     "output_type": "stream",
     "text": [
      "i:31\n"
     ]
    },
    {
     "name": "stderr",
     "output_type": "stream",
     "text": [
      "[WARNING 25-05-29 11:54:37.6133 PDT gradient_boosted_trees.cc:1840] \"goss_alpha\" set but \"sampling_method\" not equal to \"GOSS\".\n",
      "[WARNING 25-05-29 11:54:37.6133 PDT gradient_boosted_trees.cc:1851] \"goss_beta\" set but \"sampling_method\" not equal to \"GOSS\".\n",
      "[WARNING 25-05-29 11:54:37.6133 PDT gradient_boosted_trees.cc:1865] \"selective_gradient_boosting_ratio\" set but \"sampling_method\" not equal to \"SELGB\".\n",
      "[INFO 25-05-29 11:54:38.2307 PDT kernel.cc:1233] Loading model from path /var/folders/4j/39rtwmqd5tg4g8dn1t6m037h0000gn/T/tmp7eqjnyra/model/ with prefix 233cc229f79c41c4\n",
      "[INFO 25-05-29 11:54:38.2434 PDT kernel.cc:1061] Use fast generic engine\n"
     ]
    },
    {
     "name": "stdout",
     "output_type": "stream",
     "text": [
      "i:32\n"
     ]
    },
    {
     "name": "stderr",
     "output_type": "stream",
     "text": [
      "[WARNING 25-05-29 11:54:38.6324 PDT gradient_boosted_trees.cc:1840] \"goss_alpha\" set but \"sampling_method\" not equal to \"GOSS\".\n",
      "[WARNING 25-05-29 11:54:38.6324 PDT gradient_boosted_trees.cc:1851] \"goss_beta\" set but \"sampling_method\" not equal to \"GOSS\".\n",
      "[WARNING 25-05-29 11:54:38.6325 PDT gradient_boosted_trees.cc:1865] \"selective_gradient_boosting_ratio\" set but \"sampling_method\" not equal to \"SELGB\".\n",
      "[INFO 25-05-29 11:54:39.2092 PDT kernel.cc:1233] Loading model from path /var/folders/4j/39rtwmqd5tg4g8dn1t6m037h0000gn/T/tmpzvsgo2sc/model/ with prefix bc4c7f9e9b234504\n",
      "[INFO 25-05-29 11:54:39.2223 PDT kernel.cc:1061] Use fast generic engine\n"
     ]
    },
    {
     "name": "stdout",
     "output_type": "stream",
     "text": [
      "i:33\n"
     ]
    },
    {
     "name": "stderr",
     "output_type": "stream",
     "text": [
      "[WARNING 25-05-29 11:54:39.5933 PDT gradient_boosted_trees.cc:1840] \"goss_alpha\" set but \"sampling_method\" not equal to \"GOSS\".\n",
      "[WARNING 25-05-29 11:54:39.5933 PDT gradient_boosted_trees.cc:1851] \"goss_beta\" set but \"sampling_method\" not equal to \"GOSS\".\n",
      "[WARNING 25-05-29 11:54:39.5934 PDT gradient_boosted_trees.cc:1865] \"selective_gradient_boosting_ratio\" set but \"sampling_method\" not equal to \"SELGB\".\n",
      "[INFO 25-05-29 11:54:40.0226 PDT kernel.cc:1233] Loading model from path /var/folders/4j/39rtwmqd5tg4g8dn1t6m037h0000gn/T/tmpgbbc5k1g/model/ with prefix b84f2b6a038049ba\n",
      "[INFO 25-05-29 11:54:40.0291 PDT kernel.cc:1061] Use fast generic engine\n"
     ]
    },
    {
     "name": "stdout",
     "output_type": "stream",
     "text": [
      "i:34\n"
     ]
    },
    {
     "name": "stderr",
     "output_type": "stream",
     "text": [
      "[WARNING 25-05-29 11:54:40.3898 PDT gradient_boosted_trees.cc:1840] \"goss_alpha\" set but \"sampling_method\" not equal to \"GOSS\".\n",
      "[WARNING 25-05-29 11:54:40.3898 PDT gradient_boosted_trees.cc:1851] \"goss_beta\" set but \"sampling_method\" not equal to \"GOSS\".\n",
      "[WARNING 25-05-29 11:54:40.3898 PDT gradient_boosted_trees.cc:1865] \"selective_gradient_boosting_ratio\" set but \"sampling_method\" not equal to \"SELGB\".\n",
      "[INFO 25-05-29 11:54:40.8110 PDT kernel.cc:1233] Loading model from path /var/folders/4j/39rtwmqd5tg4g8dn1t6m037h0000gn/T/tmpuqeelj3i/model/ with prefix a769fe6d388e48f0\n",
      "[INFO 25-05-29 11:54:40.8162 PDT kernel.cc:1061] Use fast generic engine\n"
     ]
    },
    {
     "name": "stdout",
     "output_type": "stream",
     "text": [
      "i:35\n"
     ]
    },
    {
     "name": "stderr",
     "output_type": "stream",
     "text": [
      "[WARNING 25-05-29 11:54:41.2142 PDT gradient_boosted_trees.cc:1840] \"goss_alpha\" set but \"sampling_method\" not equal to \"GOSS\".\n",
      "[WARNING 25-05-29 11:54:41.2142 PDT gradient_boosted_trees.cc:1851] \"goss_beta\" set but \"sampling_method\" not equal to \"GOSS\".\n",
      "[WARNING 25-05-29 11:54:41.2142 PDT gradient_boosted_trees.cc:1865] \"selective_gradient_boosting_ratio\" set but \"sampling_method\" not equal to \"SELGB\".\n",
      "[INFO 25-05-29 11:54:41.6579 PDT kernel.cc:1233] Loading model from path /var/folders/4j/39rtwmqd5tg4g8dn1t6m037h0000gn/T/tmpnnbywd6r/model/ with prefix 9550d2e87ae74e5b\n",
      "[INFO 25-05-29 11:54:41.6643 PDT quick_scorer_extended.cc:911] The binary was compiled without AVX2 support, but your CPU supports it. Enable it for faster model inference.\n",
      "[INFO 25-05-29 11:54:41.6647 PDT abstract_model.cc:1344] Engine \"GradientBoostedTreesQuickScorerExtended\" built\n",
      "[INFO 25-05-29 11:54:41.6648 PDT kernel.cc:1061] Use fast generic engine\n"
     ]
    },
    {
     "name": "stdout",
     "output_type": "stream",
     "text": [
      "i:36\n"
     ]
    },
    {
     "name": "stderr",
     "output_type": "stream",
     "text": [
      "[WARNING 25-05-29 11:54:42.1467 PDT gradient_boosted_trees.cc:1840] \"goss_alpha\" set but \"sampling_method\" not equal to \"GOSS\".\n",
      "[WARNING 25-05-29 11:54:42.1468 PDT gradient_boosted_trees.cc:1851] \"goss_beta\" set but \"sampling_method\" not equal to \"GOSS\".\n",
      "[WARNING 25-05-29 11:54:42.1468 PDT gradient_boosted_trees.cc:1865] \"selective_gradient_boosting_ratio\" set but \"sampling_method\" not equal to \"SELGB\".\n",
      "[INFO 25-05-29 11:54:42.5544 PDT kernel.cc:1233] Loading model from path /var/folders/4j/39rtwmqd5tg4g8dn1t6m037h0000gn/T/tmpiete18do/model/ with prefix 9a73bc8a0b294949\n",
      "[INFO 25-05-29 11:54:42.5592 PDT kernel.cc:1061] Use fast generic engine\n"
     ]
    },
    {
     "name": "stdout",
     "output_type": "stream",
     "text": [
      "i:37\n"
     ]
    },
    {
     "name": "stderr",
     "output_type": "stream",
     "text": [
      "[WARNING 25-05-29 11:54:42.9679 PDT gradient_boosted_trees.cc:1840] \"goss_alpha\" set but \"sampling_method\" not equal to \"GOSS\".\n",
      "[WARNING 25-05-29 11:54:42.9679 PDT gradient_boosted_trees.cc:1851] \"goss_beta\" set but \"sampling_method\" not equal to \"GOSS\".\n",
      "[WARNING 25-05-29 11:54:42.9680 PDT gradient_boosted_trees.cc:1865] \"selective_gradient_boosting_ratio\" set but \"sampling_method\" not equal to \"SELGB\".\n",
      "[INFO 25-05-29 11:54:43.3710 PDT kernel.cc:1233] Loading model from path /var/folders/4j/39rtwmqd5tg4g8dn1t6m037h0000gn/T/tmpgcnxit60/model/ with prefix b72bf611cc1d4b3a\n",
      "[INFO 25-05-29 11:54:43.3752 PDT kernel.cc:1061] Use fast generic engine\n"
     ]
    },
    {
     "name": "stdout",
     "output_type": "stream",
     "text": [
      "i:38\n"
     ]
    },
    {
     "name": "stderr",
     "output_type": "stream",
     "text": [
      "[WARNING 25-05-29 11:54:43.7894 PDT gradient_boosted_trees.cc:1840] \"goss_alpha\" set but \"sampling_method\" not equal to \"GOSS\".\n",
      "[WARNING 25-05-29 11:54:43.7894 PDT gradient_boosted_trees.cc:1851] \"goss_beta\" set but \"sampling_method\" not equal to \"GOSS\".\n",
      "[WARNING 25-05-29 11:54:43.7894 PDT gradient_boosted_trees.cc:1865] \"selective_gradient_boosting_ratio\" set but \"sampling_method\" not equal to \"SELGB\".\n",
      "[INFO 25-05-29 11:54:44.2601 PDT kernel.cc:1233] Loading model from path /var/folders/4j/39rtwmqd5tg4g8dn1t6m037h0000gn/T/tmpr2nup7di/model/ with prefix cd8c985c8b55461b\n",
      "[INFO 25-05-29 11:54:44.2677 PDT kernel.cc:1061] Use fast generic engine\n"
     ]
    },
    {
     "name": "stdout",
     "output_type": "stream",
     "text": [
      "i:39\n"
     ]
    },
    {
     "name": "stderr",
     "output_type": "stream",
     "text": [
      "[WARNING 25-05-29 11:54:44.6360 PDT gradient_boosted_trees.cc:1840] \"goss_alpha\" set but \"sampling_method\" not equal to \"GOSS\".\n",
      "[WARNING 25-05-29 11:54:44.6361 PDT gradient_boosted_trees.cc:1851] \"goss_beta\" set but \"sampling_method\" not equal to \"GOSS\".\n",
      "[WARNING 25-05-29 11:54:44.6361 PDT gradient_boosted_trees.cc:1865] \"selective_gradient_boosting_ratio\" set but \"sampling_method\" not equal to \"SELGB\".\n",
      "[INFO 25-05-29 11:54:45.3523 PDT kernel.cc:1233] Loading model from path /var/folders/4j/39rtwmqd5tg4g8dn1t6m037h0000gn/T/tmphmue02zq/model/ with prefix f94a762631ac42e6\n",
      "[INFO 25-05-29 11:54:45.3659 PDT kernel.cc:1061] Use fast generic engine\n"
     ]
    },
    {
     "name": "stdout",
     "output_type": "stream",
     "text": [
      "i:40\n"
     ]
    },
    {
     "name": "stderr",
     "output_type": "stream",
     "text": [
      "[WARNING 25-05-29 11:54:45.7736 PDT gradient_boosted_trees.cc:1840] \"goss_alpha\" set but \"sampling_method\" not equal to \"GOSS\".\n",
      "[WARNING 25-05-29 11:54:45.7737 PDT gradient_boosted_trees.cc:1851] \"goss_beta\" set but \"sampling_method\" not equal to \"GOSS\".\n",
      "[WARNING 25-05-29 11:54:45.7737 PDT gradient_boosted_trees.cc:1865] \"selective_gradient_boosting_ratio\" set but \"sampling_method\" not equal to \"SELGB\".\n",
      "[INFO 25-05-29 11:54:46.1988 PDT kernel.cc:1233] Loading model from path /var/folders/4j/39rtwmqd5tg4g8dn1t6m037h0000gn/T/tmpv4qohlh3/model/ with prefix cf057e0873124187\n",
      "[INFO 25-05-29 11:54:46.2041 PDT kernel.cc:1061] Use fast generic engine\n"
     ]
    },
    {
     "name": "stdout",
     "output_type": "stream",
     "text": [
      "i:41\n"
     ]
    },
    {
     "name": "stderr",
     "output_type": "stream",
     "text": [
      "[WARNING 25-05-29 11:54:46.6598 PDT gradient_boosted_trees.cc:1840] \"goss_alpha\" set but \"sampling_method\" not equal to \"GOSS\".\n",
      "[WARNING 25-05-29 11:54:46.6599 PDT gradient_boosted_trees.cc:1851] \"goss_beta\" set but \"sampling_method\" not equal to \"GOSS\".\n",
      "[WARNING 25-05-29 11:54:46.6599 PDT gradient_boosted_trees.cc:1865] \"selective_gradient_boosting_ratio\" set but \"sampling_method\" not equal to \"SELGB\".\n",
      "[INFO 25-05-29 11:54:47.1942 PDT kernel.cc:1233] Loading model from path /var/folders/4j/39rtwmqd5tg4g8dn1t6m037h0000gn/T/tmpmjikne8f/model/ with prefix 9a4fa53104274566\n",
      "[INFO 25-05-29 11:54:47.2026 PDT kernel.cc:1061] Use fast generic engine\n"
     ]
    },
    {
     "name": "stdout",
     "output_type": "stream",
     "text": [
      "i:42\n"
     ]
    },
    {
     "name": "stderr",
     "output_type": "stream",
     "text": [
      "[WARNING 25-05-29 11:54:47.5705 PDT gradient_boosted_trees.cc:1840] \"goss_alpha\" set but \"sampling_method\" not equal to \"GOSS\".\n",
      "[WARNING 25-05-29 11:54:47.5706 PDT gradient_boosted_trees.cc:1851] \"goss_beta\" set but \"sampling_method\" not equal to \"GOSS\".\n",
      "[WARNING 25-05-29 11:54:47.5706 PDT gradient_boosted_trees.cc:1865] \"selective_gradient_boosting_ratio\" set but \"sampling_method\" not equal to \"SELGB\".\n",
      "[INFO 25-05-29 11:54:47.9973 PDT kernel.cc:1233] Loading model from path /var/folders/4j/39rtwmqd5tg4g8dn1t6m037h0000gn/T/tmpzlmr2qrm/model/ with prefix acfb29e3643c4f60\n",
      "[INFO 25-05-29 11:54:48.0027 PDT kernel.cc:1061] Use fast generic engine\n"
     ]
    },
    {
     "name": "stdout",
     "output_type": "stream",
     "text": [
      "i:43\n"
     ]
    },
    {
     "name": "stderr",
     "output_type": "stream",
     "text": [
      "[WARNING 25-05-29 11:54:48.4037 PDT gradient_boosted_trees.cc:1840] \"goss_alpha\" set but \"sampling_method\" not equal to \"GOSS\".\n",
      "[WARNING 25-05-29 11:54:48.4038 PDT gradient_boosted_trees.cc:1851] \"goss_beta\" set but \"sampling_method\" not equal to \"GOSS\".\n",
      "[WARNING 25-05-29 11:54:48.4038 PDT gradient_boosted_trees.cc:1865] \"selective_gradient_boosting_ratio\" set but \"sampling_method\" not equal to \"SELGB\".\n",
      "[INFO 25-05-29 11:54:48.9362 PDT kernel.cc:1233] Loading model from path /var/folders/4j/39rtwmqd5tg4g8dn1t6m037h0000gn/T/tmp1yf5suny/model/ with prefix 60ba03bc2ff44c8e\n",
      "[INFO 25-05-29 11:54:48.9473 PDT kernel.cc:1061] Use fast generic engine\n"
     ]
    },
    {
     "name": "stdout",
     "output_type": "stream",
     "text": [
      "i:44\n"
     ]
    },
    {
     "name": "stderr",
     "output_type": "stream",
     "text": [
      "[WARNING 25-05-29 11:54:49.4094 PDT gradient_boosted_trees.cc:1840] \"goss_alpha\" set but \"sampling_method\" not equal to \"GOSS\".\n",
      "[WARNING 25-05-29 11:54:49.4095 PDT gradient_boosted_trees.cc:1851] \"goss_beta\" set but \"sampling_method\" not equal to \"GOSS\".\n",
      "[WARNING 25-05-29 11:54:49.4095 PDT gradient_boosted_trees.cc:1865] \"selective_gradient_boosting_ratio\" set but \"sampling_method\" not equal to \"SELGB\".\n",
      "[INFO 25-05-29 11:54:49.8180 PDT kernel.cc:1233] Loading model from path /var/folders/4j/39rtwmqd5tg4g8dn1t6m037h0000gn/T/tmp5z49wgex/model/ with prefix 4f344ccad6c04710\n",
      "[INFO 25-05-29 11:54:49.8237 PDT kernel.cc:1061] Use fast generic engine\n"
     ]
    },
    {
     "name": "stdout",
     "output_type": "stream",
     "text": [
      "i:45\n"
     ]
    },
    {
     "name": "stderr",
     "output_type": "stream",
     "text": [
      "[WARNING 25-05-29 11:54:50.1908 PDT gradient_boosted_trees.cc:1840] \"goss_alpha\" set but \"sampling_method\" not equal to \"GOSS\".\n",
      "[WARNING 25-05-29 11:54:50.1909 PDT gradient_boosted_trees.cc:1851] \"goss_beta\" set but \"sampling_method\" not equal to \"GOSS\".\n",
      "[WARNING 25-05-29 11:54:50.1909 PDT gradient_boosted_trees.cc:1865] \"selective_gradient_boosting_ratio\" set but \"sampling_method\" not equal to \"SELGB\".\n",
      "[INFO 25-05-29 11:54:50.5278 PDT kernel.cc:1233] Loading model from path /var/folders/4j/39rtwmqd5tg4g8dn1t6m037h0000gn/T/tmphj5qf0a1/model/ with prefix e10ce5c63c3145eb\n",
      "[INFO 25-05-29 11:54:50.5304 PDT kernel.cc:1061] Use fast generic engine\n"
     ]
    },
    {
     "name": "stdout",
     "output_type": "stream",
     "text": [
      "i:46\n"
     ]
    },
    {
     "name": "stderr",
     "output_type": "stream",
     "text": [
      "[WARNING 25-05-29 11:54:50.8839 PDT gradient_boosted_trees.cc:1840] \"goss_alpha\" set but \"sampling_method\" not equal to \"GOSS\".\n",
      "[WARNING 25-05-29 11:54:50.8840 PDT gradient_boosted_trees.cc:1851] \"goss_beta\" set but \"sampling_method\" not equal to \"GOSS\".\n",
      "[WARNING 25-05-29 11:54:50.8840 PDT gradient_boosted_trees.cc:1865] \"selective_gradient_boosting_ratio\" set but \"sampling_method\" not equal to \"SELGB\".\n",
      "[INFO 25-05-29 11:54:51.3253 PDT kernel.cc:1233] Loading model from path /var/folders/4j/39rtwmqd5tg4g8dn1t6m037h0000gn/T/tmpvsk0vk17/model/ with prefix ac26da0e41d84761\n",
      "[INFO 25-05-29 11:54:51.3323 PDT kernel.cc:1061] Use fast generic engine\n"
     ]
    },
    {
     "name": "stdout",
     "output_type": "stream",
     "text": [
      "i:47\n"
     ]
    },
    {
     "name": "stderr",
     "output_type": "stream",
     "text": [
      "[WARNING 25-05-29 11:54:51.6842 PDT gradient_boosted_trees.cc:1840] \"goss_alpha\" set but \"sampling_method\" not equal to \"GOSS\".\n",
      "[WARNING 25-05-29 11:54:51.6842 PDT gradient_boosted_trees.cc:1851] \"goss_beta\" set but \"sampling_method\" not equal to \"GOSS\".\n",
      "[WARNING 25-05-29 11:54:51.6842 PDT gradient_boosted_trees.cc:1865] \"selective_gradient_boosting_ratio\" set but \"sampling_method\" not equal to \"SELGB\".\n",
      "[INFO 25-05-29 11:54:52.1100 PDT kernel.cc:1233] Loading model from path /var/folders/4j/39rtwmqd5tg4g8dn1t6m037h0000gn/T/tmpvsdjs5e7/model/ with prefix 9cd77cf66191426d\n",
      "[INFO 25-05-29 11:54:52.1150 PDT abstract_model.cc:1344] Engine \"GradientBoostedTreesQuickScorerExtended\" built\n",
      "[INFO 25-05-29 11:54:52.1150 PDT kernel.cc:1061] Use fast generic engine\n"
     ]
    },
    {
     "name": "stdout",
     "output_type": "stream",
     "text": [
      "i:48\n"
     ]
    },
    {
     "name": "stderr",
     "output_type": "stream",
     "text": [
      "[WARNING 25-05-29 11:54:52.4706 PDT gradient_boosted_trees.cc:1840] \"goss_alpha\" set but \"sampling_method\" not equal to \"GOSS\".\n",
      "[WARNING 25-05-29 11:54:52.4706 PDT gradient_boosted_trees.cc:1851] \"goss_beta\" set but \"sampling_method\" not equal to \"GOSS\".\n",
      "[WARNING 25-05-29 11:54:52.4706 PDT gradient_boosted_trees.cc:1865] \"selective_gradient_boosting_ratio\" set but \"sampling_method\" not equal to \"SELGB\".\n",
      "[INFO 25-05-29 11:54:52.8433 PDT kernel.cc:1233] Loading model from path /var/folders/4j/39rtwmqd5tg4g8dn1t6m037h0000gn/T/tmpfp1cr_ay/model/ with prefix 03b13179ddc242e4\n",
      "[INFO 25-05-29 11:54:52.8471 PDT kernel.cc:1061] Use fast generic engine\n"
     ]
    },
    {
     "name": "stdout",
     "output_type": "stream",
     "text": [
      "i:49\n"
     ]
    },
    {
     "name": "stderr",
     "output_type": "stream",
     "text": [
      "[WARNING 25-05-29 11:54:53.2121 PDT gradient_boosted_trees.cc:1840] \"goss_alpha\" set but \"sampling_method\" not equal to \"GOSS\".\n",
      "[WARNING 25-05-29 11:54:53.2122 PDT gradient_boosted_trees.cc:1851] \"goss_beta\" set but \"sampling_method\" not equal to \"GOSS\".\n",
      "[WARNING 25-05-29 11:54:53.2122 PDT gradient_boosted_trees.cc:1865] \"selective_gradient_boosting_ratio\" set but \"sampling_method\" not equal to \"SELGB\".\n",
      "[INFO 25-05-29 11:54:53.6315 PDT kernel.cc:1233] Loading model from path /var/folders/4j/39rtwmqd5tg4g8dn1t6m037h0000gn/T/tmpp5gz4r2q/model/ with prefix 01e93187356e4aaf\n",
      "[INFO 25-05-29 11:54:53.6377 PDT kernel.cc:1061] Use fast generic engine\n"
     ]
    },
    {
     "name": "stdout",
     "output_type": "stream",
     "text": [
      "i:50\n"
     ]
    },
    {
     "name": "stderr",
     "output_type": "stream",
     "text": [
      "[WARNING 25-05-29 11:54:53.9966 PDT gradient_boosted_trees.cc:1840] \"goss_alpha\" set but \"sampling_method\" not equal to \"GOSS\".\n",
      "[WARNING 25-05-29 11:54:53.9966 PDT gradient_boosted_trees.cc:1851] \"goss_beta\" set but \"sampling_method\" not equal to \"GOSS\".\n",
      "[WARNING 25-05-29 11:54:53.9966 PDT gradient_boosted_trees.cc:1865] \"selective_gradient_boosting_ratio\" set but \"sampling_method\" not equal to \"SELGB\".\n",
      "[INFO 25-05-29 11:54:54.5502 PDT kernel.cc:1233] Loading model from path /var/folders/4j/39rtwmqd5tg4g8dn1t6m037h0000gn/T/tmpx8go8f7g/model/ with prefix cddb18e6bd5c4343\n",
      "[INFO 25-05-29 11:54:54.5616 PDT kernel.cc:1061] Use fast generic engine\n"
     ]
    },
    {
     "name": "stdout",
     "output_type": "stream",
     "text": [
      "i:51\n"
     ]
    },
    {
     "name": "stderr",
     "output_type": "stream",
     "text": [
      "[WARNING 25-05-29 11:54:54.9325 PDT gradient_boosted_trees.cc:1840] \"goss_alpha\" set but \"sampling_method\" not equal to \"GOSS\".\n",
      "[WARNING 25-05-29 11:54:54.9325 PDT gradient_boosted_trees.cc:1851] \"goss_beta\" set but \"sampling_method\" not equal to \"GOSS\".\n",
      "[WARNING 25-05-29 11:54:54.9325 PDT gradient_boosted_trees.cc:1865] \"selective_gradient_boosting_ratio\" set but \"sampling_method\" not equal to \"SELGB\".\n",
      "[INFO 25-05-29 11:54:55.9701 PDT kernel.cc:1233] Loading model from path /var/folders/4j/39rtwmqd5tg4g8dn1t6m037h0000gn/T/tmpxi_ua9wt/model/ with prefix a14bd09872364449\n",
      "[INFO 25-05-29 11:54:55.9832 PDT kernel.cc:1061] Use fast generic engine\n"
     ]
    },
    {
     "name": "stdout",
     "output_type": "stream",
     "text": [
      "i:52\n"
     ]
    },
    {
     "name": "stderr",
     "output_type": "stream",
     "text": [
      "[WARNING 25-05-29 11:54:56.3621 PDT gradient_boosted_trees.cc:1840] \"goss_alpha\" set but \"sampling_method\" not equal to \"GOSS\".\n",
      "[WARNING 25-05-29 11:54:56.3621 PDT gradient_boosted_trees.cc:1851] \"goss_beta\" set but \"sampling_method\" not equal to \"GOSS\".\n",
      "[WARNING 25-05-29 11:54:56.3621 PDT gradient_boosted_trees.cc:1865] \"selective_gradient_boosting_ratio\" set but \"sampling_method\" not equal to \"SELGB\".\n",
      "[INFO 25-05-29 11:54:56.7964 PDT kernel.cc:1233] Loading model from path /var/folders/4j/39rtwmqd5tg4g8dn1t6m037h0000gn/T/tmp2cwn_dxk/model/ with prefix 7950bdeb139b44f3\n",
      "[INFO 25-05-29 11:54:56.8031 PDT kernel.cc:1061] Use fast generic engine\n"
     ]
    },
    {
     "name": "stdout",
     "output_type": "stream",
     "text": [
      "i:53\n"
     ]
    },
    {
     "name": "stderr",
     "output_type": "stream",
     "text": [
      "[WARNING 25-05-29 11:54:57.2055 PDT gradient_boosted_trees.cc:1840] \"goss_alpha\" set but \"sampling_method\" not equal to \"GOSS\".\n",
      "[WARNING 25-05-29 11:54:57.2055 PDT gradient_boosted_trees.cc:1851] \"goss_beta\" set but \"sampling_method\" not equal to \"GOSS\".\n",
      "[WARNING 25-05-29 11:54:57.2055 PDT gradient_boosted_trees.cc:1865] \"selective_gradient_boosting_ratio\" set but \"sampling_method\" not equal to \"SELGB\".\n",
      "[INFO 25-05-29 11:54:57.6167 PDT kernel.cc:1233] Loading model from path /var/folders/4j/39rtwmqd5tg4g8dn1t6m037h0000gn/T/tmplpozbhxx/model/ with prefix d1670c6912a04a52\n",
      "[INFO 25-05-29 11:54:57.6224 PDT kernel.cc:1061] Use fast generic engine\n"
     ]
    },
    {
     "name": "stdout",
     "output_type": "stream",
     "text": [
      "i:54\n"
     ]
    },
    {
     "name": "stderr",
     "output_type": "stream",
     "text": [
      "[WARNING 25-05-29 11:54:57.9841 PDT gradient_boosted_trees.cc:1840] \"goss_alpha\" set but \"sampling_method\" not equal to \"GOSS\".\n",
      "[WARNING 25-05-29 11:54:57.9842 PDT gradient_boosted_trees.cc:1851] \"goss_beta\" set but \"sampling_method\" not equal to \"GOSS\".\n",
      "[WARNING 25-05-29 11:54:57.9842 PDT gradient_boosted_trees.cc:1865] \"selective_gradient_boosting_ratio\" set but \"sampling_method\" not equal to \"SELGB\".\n",
      "[INFO 25-05-29 11:54:58.4698 PDT kernel.cc:1233] Loading model from path /var/folders/4j/39rtwmqd5tg4g8dn1t6m037h0000gn/T/tmpvpmnt8yw/model/ with prefix 158245bea233451e\n",
      "[INFO 25-05-29 11:54:58.4765 PDT kernel.cc:1061] Use fast generic engine\n"
     ]
    },
    {
     "name": "stdout",
     "output_type": "stream",
     "text": [
      "i:55\n"
     ]
    },
    {
     "name": "stderr",
     "output_type": "stream",
     "text": [
      "[WARNING 25-05-29 11:54:58.8690 PDT gradient_boosted_trees.cc:1840] \"goss_alpha\" set but \"sampling_method\" not equal to \"GOSS\".\n",
      "[WARNING 25-05-29 11:54:58.8690 PDT gradient_boosted_trees.cc:1851] \"goss_beta\" set but \"sampling_method\" not equal to \"GOSS\".\n",
      "[WARNING 25-05-29 11:54:58.8691 PDT gradient_boosted_trees.cc:1865] \"selective_gradient_boosting_ratio\" set but \"sampling_method\" not equal to \"SELGB\".\n",
      "[INFO 25-05-29 11:54:59.4109 PDT kernel.cc:1233] Loading model from path /var/folders/4j/39rtwmqd5tg4g8dn1t6m037h0000gn/T/tmpi5cyy3qa/model/ with prefix 920442f4ebaf4a39\n",
      "[INFO 25-05-29 11:54:59.4198 PDT kernel.cc:1061] Use fast generic engine\n"
     ]
    },
    {
     "name": "stdout",
     "output_type": "stream",
     "text": [
      "i:56\n"
     ]
    },
    {
     "name": "stderr",
     "output_type": "stream",
     "text": [
      "[WARNING 25-05-29 11:54:59.8430 PDT gradient_boosted_trees.cc:1840] \"goss_alpha\" set but \"sampling_method\" not equal to \"GOSS\".\n",
      "[WARNING 25-05-29 11:54:59.8431 PDT gradient_boosted_trees.cc:1851] \"goss_beta\" set but \"sampling_method\" not equal to \"GOSS\".\n",
      "[WARNING 25-05-29 11:54:59.8431 PDT gradient_boosted_trees.cc:1865] \"selective_gradient_boosting_ratio\" set but \"sampling_method\" not equal to \"SELGB\".\n",
      "[INFO 25-05-29 11:55:00.2739 PDT kernel.cc:1233] Loading model from path /var/folders/4j/39rtwmqd5tg4g8dn1t6m037h0000gn/T/tmp0b9tft4u/model/ with prefix f9a7b819f49d40c4\n",
      "[INFO 25-05-29 11:55:00.2792 PDT kernel.cc:1061] Use fast generic engine\n"
     ]
    },
    {
     "name": "stdout",
     "output_type": "stream",
     "text": [
      "i:57\n"
     ]
    },
    {
     "name": "stderr",
     "output_type": "stream",
     "text": [
      "[WARNING 25-05-29 11:55:00.6566 PDT gradient_boosted_trees.cc:1840] \"goss_alpha\" set but \"sampling_method\" not equal to \"GOSS\".\n",
      "[WARNING 25-05-29 11:55:00.6566 PDT gradient_boosted_trees.cc:1851] \"goss_beta\" set but \"sampling_method\" not equal to \"GOSS\".\n",
      "[WARNING 25-05-29 11:55:00.6566 PDT gradient_boosted_trees.cc:1865] \"selective_gradient_boosting_ratio\" set but \"sampling_method\" not equal to \"SELGB\".\n",
      "[INFO 25-05-29 11:55:01.0840 PDT kernel.cc:1233] Loading model from path /var/folders/4j/39rtwmqd5tg4g8dn1t6m037h0000gn/T/tmp2r0lg9b4/model/ with prefix b096913b5c8a48a4\n",
      "[INFO 25-05-29 11:55:01.0894 PDT kernel.cc:1061] Use fast generic engine\n"
     ]
    },
    {
     "name": "stdout",
     "output_type": "stream",
     "text": [
      "i:58\n"
     ]
    },
    {
     "name": "stderr",
     "output_type": "stream",
     "text": [
      "[WARNING 25-05-29 11:55:01.4754 PDT gradient_boosted_trees.cc:1840] \"goss_alpha\" set but \"sampling_method\" not equal to \"GOSS\".\n",
      "[WARNING 25-05-29 11:55:01.4755 PDT gradient_boosted_trees.cc:1851] \"goss_beta\" set but \"sampling_method\" not equal to \"GOSS\".\n",
      "[WARNING 25-05-29 11:55:01.4755 PDT gradient_boosted_trees.cc:1865] \"selective_gradient_boosting_ratio\" set but \"sampling_method\" not equal to \"SELGB\".\n",
      "[INFO 25-05-29 11:55:02.0463 PDT kernel.cc:1233] Loading model from path /var/folders/4j/39rtwmqd5tg4g8dn1t6m037h0000gn/T/tmp4u814zq_/model/ with prefix a6ce0ba9fffb4303\n",
      "[INFO 25-05-29 11:55:02.0579 PDT kernel.cc:1061] Use fast generic engine\n"
     ]
    },
    {
     "name": "stdout",
     "output_type": "stream",
     "text": [
      "i:59\n"
     ]
    },
    {
     "name": "stderr",
     "output_type": "stream",
     "text": [
      "[WARNING 25-05-29 11:55:02.4305 PDT gradient_boosted_trees.cc:1840] \"goss_alpha\" set but \"sampling_method\" not equal to \"GOSS\".\n",
      "[WARNING 25-05-29 11:55:02.4306 PDT gradient_boosted_trees.cc:1851] \"goss_beta\" set but \"sampling_method\" not equal to \"GOSS\".\n",
      "[WARNING 25-05-29 11:55:02.4306 PDT gradient_boosted_trees.cc:1865] \"selective_gradient_boosting_ratio\" set but \"sampling_method\" not equal to \"SELGB\".\n",
      "[INFO 25-05-29 11:55:02.9992 PDT kernel.cc:1233] Loading model from path /var/folders/4j/39rtwmqd5tg4g8dn1t6m037h0000gn/T/tmpq7o0qtmv/model/ with prefix f9e324527fd34aef\n",
      "[INFO 25-05-29 11:55:03.0102 PDT abstract_model.cc:1344] Engine \"GradientBoostedTreesQuickScorerExtended\" built\n",
      "[INFO 25-05-29 11:55:03.0102 PDT kernel.cc:1061] Use fast generic engine\n"
     ]
    },
    {
     "name": "stdout",
     "output_type": "stream",
     "text": [
      "i:60\n"
     ]
    },
    {
     "name": "stderr",
     "output_type": "stream",
     "text": [
      "[WARNING 25-05-29 11:55:03.4307 PDT gradient_boosted_trees.cc:1840] \"goss_alpha\" set but \"sampling_method\" not equal to \"GOSS\".\n",
      "[WARNING 25-05-29 11:55:03.4307 PDT gradient_boosted_trees.cc:1851] \"goss_beta\" set but \"sampling_method\" not equal to \"GOSS\".\n",
      "[WARNING 25-05-29 11:55:03.4307 PDT gradient_boosted_trees.cc:1865] \"selective_gradient_boosting_ratio\" set but \"sampling_method\" not equal to \"SELGB\".\n",
      "[INFO 25-05-29 11:55:03.8364 PDT kernel.cc:1233] Loading model from path /var/folders/4j/39rtwmqd5tg4g8dn1t6m037h0000gn/T/tmpihqauwjb/model/ with prefix 61d87cb7fae84f91\n",
      "[INFO 25-05-29 11:55:03.8397 PDT kernel.cc:1061] Use fast generic engine\n"
     ]
    },
    {
     "name": "stdout",
     "output_type": "stream",
     "text": [
      "i:61\n"
     ]
    },
    {
     "name": "stderr",
     "output_type": "stream",
     "text": [
      "[WARNING 25-05-29 11:55:04.2289 PDT gradient_boosted_trees.cc:1840] \"goss_alpha\" set but \"sampling_method\" not equal to \"GOSS\".\n",
      "[WARNING 25-05-29 11:55:04.2289 PDT gradient_boosted_trees.cc:1851] \"goss_beta\" set but \"sampling_method\" not equal to \"GOSS\".\n",
      "[WARNING 25-05-29 11:55:04.2289 PDT gradient_boosted_trees.cc:1865] \"selective_gradient_boosting_ratio\" set but \"sampling_method\" not equal to \"SELGB\".\n",
      "[INFO 25-05-29 11:55:04.6378 PDT kernel.cc:1233] Loading model from path /var/folders/4j/39rtwmqd5tg4g8dn1t6m037h0000gn/T/tmp7eop7zs_/model/ with prefix ddae26be26e240bf\n",
      "[INFO 25-05-29 11:55:04.6436 PDT kernel.cc:1061] Use fast generic engine\n"
     ]
    },
    {
     "name": "stdout",
     "output_type": "stream",
     "text": [
      "i:62\n"
     ]
    },
    {
     "name": "stderr",
     "output_type": "stream",
     "text": [
      "[WARNING 25-05-29 11:55:04.9978 PDT gradient_boosted_trees.cc:1840] \"goss_alpha\" set but \"sampling_method\" not equal to \"GOSS\".\n",
      "[WARNING 25-05-29 11:55:04.9978 PDT gradient_boosted_trees.cc:1851] \"goss_beta\" set but \"sampling_method\" not equal to \"GOSS\".\n",
      "[WARNING 25-05-29 11:55:04.9978 PDT gradient_boosted_trees.cc:1865] \"selective_gradient_boosting_ratio\" set but \"sampling_method\" not equal to \"SELGB\".\n",
      "[INFO 25-05-29 11:55:05.4295 PDT kernel.cc:1233] Loading model from path /var/folders/4j/39rtwmqd5tg4g8dn1t6m037h0000gn/T/tmptxafky3y/model/ with prefix 3f680cc28c5d4167\n",
      "[INFO 25-05-29 11:55:05.4360 PDT kernel.cc:1061] Use fast generic engine\n"
     ]
    },
    {
     "name": "stdout",
     "output_type": "stream",
     "text": [
      "i:63\n"
     ]
    },
    {
     "name": "stderr",
     "output_type": "stream",
     "text": [
      "[WARNING 25-05-29 11:55:05.7969 PDT gradient_boosted_trees.cc:1840] \"goss_alpha\" set but \"sampling_method\" not equal to \"GOSS\".\n",
      "[WARNING 25-05-29 11:55:05.7969 PDT gradient_boosted_trees.cc:1851] \"goss_beta\" set but \"sampling_method\" not equal to \"GOSS\".\n",
      "[WARNING 25-05-29 11:55:05.7969 PDT gradient_boosted_trees.cc:1865] \"selective_gradient_boosting_ratio\" set but \"sampling_method\" not equal to \"SELGB\".\n",
      "[INFO 25-05-29 11:55:06.1799 PDT kernel.cc:1233] Loading model from path /var/folders/4j/39rtwmqd5tg4g8dn1t6m037h0000gn/T/tmpx27fqx_h/model/ with prefix c4d701d21a324599\n",
      "[INFO 25-05-29 11:55:06.1851 PDT kernel.cc:1061] Use fast generic engine\n"
     ]
    },
    {
     "name": "stdout",
     "output_type": "stream",
     "text": [
      "i:64\n"
     ]
    },
    {
     "name": "stderr",
     "output_type": "stream",
     "text": [
      "[WARNING 25-05-29 11:55:06.5423 PDT gradient_boosted_trees.cc:1840] \"goss_alpha\" set but \"sampling_method\" not equal to \"GOSS\".\n",
      "[WARNING 25-05-29 11:55:06.5423 PDT gradient_boosted_trees.cc:1851] \"goss_beta\" set but \"sampling_method\" not equal to \"GOSS\".\n",
      "[WARNING 25-05-29 11:55:06.5423 PDT gradient_boosted_trees.cc:1865] \"selective_gradient_boosting_ratio\" set but \"sampling_method\" not equal to \"SELGB\".\n",
      "[INFO 25-05-29 11:55:06.9524 PDT kernel.cc:1233] Loading model from path /var/folders/4j/39rtwmqd5tg4g8dn1t6m037h0000gn/T/tmp0jq2jo24/model/ with prefix 339d8c48611b4b7e\n",
      "[INFO 25-05-29 11:55:06.9582 PDT kernel.cc:1061] Use fast generic engine\n"
     ]
    },
    {
     "name": "stdout",
     "output_type": "stream",
     "text": [
      "i:65\n"
     ]
    },
    {
     "name": "stderr",
     "output_type": "stream",
     "text": [
      "[WARNING 25-05-29 11:55:07.3112 PDT gradient_boosted_trees.cc:1840] \"goss_alpha\" set but \"sampling_method\" not equal to \"GOSS\".\n",
      "[WARNING 25-05-29 11:55:07.3112 PDT gradient_boosted_trees.cc:1851] \"goss_beta\" set but \"sampling_method\" not equal to \"GOSS\".\n",
      "[WARNING 25-05-29 11:55:07.3112 PDT gradient_boosted_trees.cc:1865] \"selective_gradient_boosting_ratio\" set but \"sampling_method\" not equal to \"SELGB\".\n",
      "[INFO 25-05-29 11:55:07.7601 PDT kernel.cc:1233] Loading model from path /var/folders/4j/39rtwmqd5tg4g8dn1t6m037h0000gn/T/tmpx3h2sibr/model/ with prefix ebb7bfddc10147ee\n",
      "[INFO 25-05-29 11:55:07.7674 PDT kernel.cc:1061] Use fast generic engine\n"
     ]
    },
    {
     "name": "stdout",
     "output_type": "stream",
     "text": [
      "i:66\n"
     ]
    },
    {
     "name": "stderr",
     "output_type": "stream",
     "text": [
      "[WARNING 25-05-29 11:55:08.1230 PDT gradient_boosted_trees.cc:1840] \"goss_alpha\" set but \"sampling_method\" not equal to \"GOSS\".\n",
      "[WARNING 25-05-29 11:55:08.1231 PDT gradient_boosted_trees.cc:1851] \"goss_beta\" set but \"sampling_method\" not equal to \"GOSS\".\n",
      "[WARNING 25-05-29 11:55:08.1231 PDT gradient_boosted_trees.cc:1865] \"selective_gradient_boosting_ratio\" set but \"sampling_method\" not equal to \"SELGB\".\n",
      "[INFO 25-05-29 11:55:08.5080 PDT kernel.cc:1233] Loading model from path /var/folders/4j/39rtwmqd5tg4g8dn1t6m037h0000gn/T/tmp35dc0c08/model/ with prefix 24c58a71a882413d\n",
      "[INFO 25-05-29 11:55:08.5130 PDT kernel.cc:1061] Use fast generic engine\n"
     ]
    },
    {
     "name": "stdout",
     "output_type": "stream",
     "text": [
      "i:67\n"
     ]
    },
    {
     "name": "stderr",
     "output_type": "stream",
     "text": [
      "[WARNING 25-05-29 11:55:08.8926 PDT gradient_boosted_trees.cc:1840] \"goss_alpha\" set but \"sampling_method\" not equal to \"GOSS\".\n",
      "[WARNING 25-05-29 11:55:08.8926 PDT gradient_boosted_trees.cc:1851] \"goss_beta\" set but \"sampling_method\" not equal to \"GOSS\".\n",
      "[WARNING 25-05-29 11:55:08.8926 PDT gradient_boosted_trees.cc:1865] \"selective_gradient_boosting_ratio\" set but \"sampling_method\" not equal to \"SELGB\".\n",
      "[INFO 25-05-29 11:55:09.3251 PDT kernel.cc:1233] Loading model from path /var/folders/4j/39rtwmqd5tg4g8dn1t6m037h0000gn/T/tmpbvwdr6ur/model/ with prefix 987e1baec00a4ed3\n",
      "[INFO 25-05-29 11:55:09.3313 PDT kernel.cc:1061] Use fast generic engine\n"
     ]
    },
    {
     "name": "stdout",
     "output_type": "stream",
     "text": [
      "i:68\n"
     ]
    },
    {
     "name": "stderr",
     "output_type": "stream",
     "text": [
      "[WARNING 25-05-29 11:55:09.7046 PDT gradient_boosted_trees.cc:1840] \"goss_alpha\" set but \"sampling_method\" not equal to \"GOSS\".\n",
      "[WARNING 25-05-29 11:55:09.7046 PDT gradient_boosted_trees.cc:1851] \"goss_beta\" set but \"sampling_method\" not equal to \"GOSS\".\n",
      "[WARNING 25-05-29 11:55:09.7046 PDT gradient_boosted_trees.cc:1865] \"selective_gradient_boosting_ratio\" set but \"sampling_method\" not equal to \"SELGB\".\n",
      "[INFO 25-05-29 11:55:10.2720 PDT kernel.cc:1233] Loading model from path /var/folders/4j/39rtwmqd5tg4g8dn1t6m037h0000gn/T/tmp36d8zapg/model/ with prefix 6789af0eb29e4491\n",
      "[INFO 25-05-29 11:55:10.2847 PDT kernel.cc:1061] Use fast generic engine\n"
     ]
    },
    {
     "name": "stdout",
     "output_type": "stream",
     "text": [
      "i:69\n"
     ]
    },
    {
     "name": "stderr",
     "output_type": "stream",
     "text": [
      "[WARNING 25-05-29 11:55:10.6469 PDT gradient_boosted_trees.cc:1840] \"goss_alpha\" set but \"sampling_method\" not equal to \"GOSS\".\n",
      "[WARNING 25-05-29 11:55:10.6469 PDT gradient_boosted_trees.cc:1851] \"goss_beta\" set but \"sampling_method\" not equal to \"GOSS\".\n",
      "[WARNING 25-05-29 11:55:10.6469 PDT gradient_boosted_trees.cc:1865] \"selective_gradient_boosting_ratio\" set but \"sampling_method\" not equal to \"SELGB\".\n",
      "[INFO 25-05-29 11:55:11.1250 PDT kernel.cc:1233] Loading model from path /var/folders/4j/39rtwmqd5tg4g8dn1t6m037h0000gn/T/tmp90e48be6/model/ with prefix 1b02a73f2b094f3b\n",
      "[INFO 25-05-29 11:55:11.1345 PDT kernel.cc:1061] Use fast generic engine\n"
     ]
    },
    {
     "name": "stdout",
     "output_type": "stream",
     "text": [
      "i:70\n"
     ]
    },
    {
     "name": "stderr",
     "output_type": "stream",
     "text": [
      "[WARNING 25-05-29 11:55:11.5343 PDT gradient_boosted_trees.cc:1840] \"goss_alpha\" set but \"sampling_method\" not equal to \"GOSS\".\n",
      "[WARNING 25-05-29 11:55:11.5343 PDT gradient_boosted_trees.cc:1851] \"goss_beta\" set but \"sampling_method\" not equal to \"GOSS\".\n",
      "[WARNING 25-05-29 11:55:11.5343 PDT gradient_boosted_trees.cc:1865] \"selective_gradient_boosting_ratio\" set but \"sampling_method\" not equal to \"SELGB\".\n",
      "[INFO 25-05-29 11:55:11.9085 PDT kernel.cc:1233] Loading model from path /var/folders/4j/39rtwmqd5tg4g8dn1t6m037h0000gn/T/tmpq6mtus3f/model/ with prefix 3f1fe91b8eea49da\n",
      "[INFO 25-05-29 11:55:11.9129 PDT quick_scorer_extended.cc:911] The binary was compiled without AVX2 support, but your CPU supports it. Enable it for faster model inference.\n",
      "[INFO 25-05-29 11:55:11.9132 PDT kernel.cc:1061] Use fast generic engine\n"
     ]
    },
    {
     "name": "stdout",
     "output_type": "stream",
     "text": [
      "i:71\n"
     ]
    },
    {
     "name": "stderr",
     "output_type": "stream",
     "text": [
      "[WARNING 25-05-29 11:55:12.2795 PDT gradient_boosted_trees.cc:1840] \"goss_alpha\" set but \"sampling_method\" not equal to \"GOSS\".\n",
      "[WARNING 25-05-29 11:55:12.2796 PDT gradient_boosted_trees.cc:1851] \"goss_beta\" set but \"sampling_method\" not equal to \"GOSS\".\n",
      "[WARNING 25-05-29 11:55:12.2796 PDT gradient_boosted_trees.cc:1865] \"selective_gradient_boosting_ratio\" set but \"sampling_method\" not equal to \"SELGB\".\n",
      "[INFO 25-05-29 11:55:12.6420 PDT kernel.cc:1233] Loading model from path /var/folders/4j/39rtwmqd5tg4g8dn1t6m037h0000gn/T/tmpg43nhlrx/model/ with prefix dd7f0141fc994175\n",
      "[INFO 25-05-29 11:55:12.6454 PDT kernel.cc:1061] Use fast generic engine\n"
     ]
    },
    {
     "name": "stdout",
     "output_type": "stream",
     "text": [
      "i:72\n"
     ]
    },
    {
     "name": "stderr",
     "output_type": "stream",
     "text": [
      "[WARNING 25-05-29 11:55:13.0067 PDT gradient_boosted_trees.cc:1840] \"goss_alpha\" set but \"sampling_method\" not equal to \"GOSS\".\n",
      "[WARNING 25-05-29 11:55:13.0068 PDT gradient_boosted_trees.cc:1851] \"goss_beta\" set but \"sampling_method\" not equal to \"GOSS\".\n",
      "[WARNING 25-05-29 11:55:13.0068 PDT gradient_boosted_trees.cc:1865] \"selective_gradient_boosting_ratio\" set but \"sampling_method\" not equal to \"SELGB\".\n",
      "[INFO 25-05-29 11:55:13.4165 PDT kernel.cc:1233] Loading model from path /var/folders/4j/39rtwmqd5tg4g8dn1t6m037h0000gn/T/tmp3uze7v29/model/ with prefix 104a73c590ed4939\n",
      "[INFO 25-05-29 11:55:13.4225 PDT abstract_model.cc:1344] Engine \"GradientBoostedTreesQuickScorerExtended\" built\n",
      "[INFO 25-05-29 11:55:13.4226 PDT kernel.cc:1061] Use fast generic engine\n"
     ]
    },
    {
     "name": "stdout",
     "output_type": "stream",
     "text": [
      "i:73\n"
     ]
    },
    {
     "name": "stderr",
     "output_type": "stream",
     "text": [
      "[WARNING 25-05-29 11:55:13.7815 PDT gradient_boosted_trees.cc:1840] \"goss_alpha\" set but \"sampling_method\" not equal to \"GOSS\".\n",
      "[WARNING 25-05-29 11:55:13.7816 PDT gradient_boosted_trees.cc:1851] \"goss_beta\" set but \"sampling_method\" not equal to \"GOSS\".\n",
      "[WARNING 25-05-29 11:55:13.7816 PDT gradient_boosted_trees.cc:1865] \"selective_gradient_boosting_ratio\" set but \"sampling_method\" not equal to \"SELGB\".\n",
      "[INFO 25-05-29 11:55:14.1285 PDT kernel.cc:1233] Loading model from path /var/folders/4j/39rtwmqd5tg4g8dn1t6m037h0000gn/T/tmpjo19h8nk/model/ with prefix fdc2d7447d65487d\n",
      "[INFO 25-05-29 11:55:14.1318 PDT kernel.cc:1061] Use fast generic engine\n"
     ]
    },
    {
     "name": "stdout",
     "output_type": "stream",
     "text": [
      "i:74\n"
     ]
    },
    {
     "name": "stderr",
     "output_type": "stream",
     "text": [
      "[WARNING 25-05-29 11:55:14.5042 PDT gradient_boosted_trees.cc:1840] \"goss_alpha\" set but \"sampling_method\" not equal to \"GOSS\".\n",
      "[WARNING 25-05-29 11:55:14.5042 PDT gradient_boosted_trees.cc:1851] \"goss_beta\" set but \"sampling_method\" not equal to \"GOSS\".\n",
      "[WARNING 25-05-29 11:55:14.5042 PDT gradient_boosted_trees.cc:1865] \"selective_gradient_boosting_ratio\" set but \"sampling_method\" not equal to \"SELGB\".\n",
      "[INFO 25-05-29 11:55:15.1702 PDT kernel.cc:1233] Loading model from path /var/folders/4j/39rtwmqd5tg4g8dn1t6m037h0000gn/T/tmpy3ipjybn/model/ with prefix aac800172126444a\n",
      "[INFO 25-05-29 11:55:15.1814 PDT kernel.cc:1061] Use fast generic engine\n"
     ]
    },
    {
     "name": "stdout",
     "output_type": "stream",
     "text": [
      "i:75\n"
     ]
    },
    {
     "name": "stderr",
     "output_type": "stream",
     "text": [
      "[WARNING 25-05-29 11:55:15.5544 PDT gradient_boosted_trees.cc:1840] \"goss_alpha\" set but \"sampling_method\" not equal to \"GOSS\".\n",
      "[WARNING 25-05-29 11:55:15.5544 PDT gradient_boosted_trees.cc:1851] \"goss_beta\" set but \"sampling_method\" not equal to \"GOSS\".\n",
      "[WARNING 25-05-29 11:55:15.5544 PDT gradient_boosted_trees.cc:1865] \"selective_gradient_boosting_ratio\" set but \"sampling_method\" not equal to \"SELGB\".\n",
      "[INFO 25-05-29 11:55:16.2991 PDT kernel.cc:1233] Loading model from path /var/folders/4j/39rtwmqd5tg4g8dn1t6m037h0000gn/T/tmpgmvq8833/model/ with prefix ce4f52c1834344d7\n",
      "[INFO 25-05-29 11:55:16.3029 PDT kernel.cc:1061] Use fast generic engine\n"
     ]
    },
    {
     "name": "stdout",
     "output_type": "stream",
     "text": [
      "i:76\n"
     ]
    },
    {
     "name": "stderr",
     "output_type": "stream",
     "text": [
      "[WARNING 25-05-29 11:55:16.6750 PDT gradient_boosted_trees.cc:1840] \"goss_alpha\" set but \"sampling_method\" not equal to \"GOSS\".\n",
      "[WARNING 25-05-29 11:55:16.6750 PDT gradient_boosted_trees.cc:1851] \"goss_beta\" set but \"sampling_method\" not equal to \"GOSS\".\n",
      "[WARNING 25-05-29 11:55:16.6750 PDT gradient_boosted_trees.cc:1865] \"selective_gradient_boosting_ratio\" set but \"sampling_method\" not equal to \"SELGB\".\n",
      "[INFO 25-05-29 11:55:17.0691 PDT kernel.cc:1233] Loading model from path /var/folders/4j/39rtwmqd5tg4g8dn1t6m037h0000gn/T/tmp92p3dil8/model/ with prefix 8466f3823b4b4a0e\n",
      "[INFO 25-05-29 11:55:17.0734 PDT kernel.cc:1061] Use fast generic engine\n"
     ]
    },
    {
     "name": "stdout",
     "output_type": "stream",
     "text": [
      "i:77\n"
     ]
    },
    {
     "name": "stderr",
     "output_type": "stream",
     "text": [
      "[WARNING 25-05-29 11:55:17.4447 PDT gradient_boosted_trees.cc:1840] \"goss_alpha\" set but \"sampling_method\" not equal to \"GOSS\".\n",
      "[WARNING 25-05-29 11:55:17.4447 PDT gradient_boosted_trees.cc:1851] \"goss_beta\" set but \"sampling_method\" not equal to \"GOSS\".\n",
      "[WARNING 25-05-29 11:55:17.4447 PDT gradient_boosted_trees.cc:1865] \"selective_gradient_boosting_ratio\" set but \"sampling_method\" not equal to \"SELGB\".\n",
      "[INFO 25-05-29 11:55:17.8774 PDT kernel.cc:1233] Loading model from path /var/folders/4j/39rtwmqd5tg4g8dn1t6m037h0000gn/T/tmpmtd8j1sk/model/ with prefix 7cabc57591d84fe2\n",
      "[INFO 25-05-29 11:55:17.8839 PDT kernel.cc:1061] Use fast generic engine\n"
     ]
    },
    {
     "name": "stdout",
     "output_type": "stream",
     "text": [
      "i:78\n"
     ]
    },
    {
     "name": "stderr",
     "output_type": "stream",
     "text": [
      "[WARNING 25-05-29 11:55:18.2554 PDT gradient_boosted_trees.cc:1840] \"goss_alpha\" set but \"sampling_method\" not equal to \"GOSS\".\n",
      "[WARNING 25-05-29 11:55:18.2554 PDT gradient_boosted_trees.cc:1851] \"goss_beta\" set but \"sampling_method\" not equal to \"GOSS\".\n",
      "[WARNING 25-05-29 11:55:18.2554 PDT gradient_boosted_trees.cc:1865] \"selective_gradient_boosting_ratio\" set but \"sampling_method\" not equal to \"SELGB\".\n",
      "[INFO 25-05-29 11:55:18.6242 PDT kernel.cc:1233] Loading model from path /var/folders/4j/39rtwmqd5tg4g8dn1t6m037h0000gn/T/tmp9ymgr6w_/model/ with prefix cd436c17b5914294\n",
      "[INFO 25-05-29 11:55:18.6269 PDT kernel.cc:1061] Use fast generic engine\n"
     ]
    },
    {
     "name": "stdout",
     "output_type": "stream",
     "text": [
      "i:79\n"
     ]
    },
    {
     "name": "stderr",
     "output_type": "stream",
     "text": [
      "[WARNING 25-05-29 11:55:19.0019 PDT gradient_boosted_trees.cc:1840] \"goss_alpha\" set but \"sampling_method\" not equal to \"GOSS\".\n",
      "[WARNING 25-05-29 11:55:19.0019 PDT gradient_boosted_trees.cc:1851] \"goss_beta\" set but \"sampling_method\" not equal to \"GOSS\".\n",
      "[WARNING 25-05-29 11:55:19.0019 PDT gradient_boosted_trees.cc:1865] \"selective_gradient_boosting_ratio\" set but \"sampling_method\" not equal to \"SELGB\".\n",
      "[INFO 25-05-29 11:55:19.4765 PDT kernel.cc:1233] Loading model from path /var/folders/4j/39rtwmqd5tg4g8dn1t6m037h0000gn/T/tmp2bkmpp1a/model/ with prefix 577fe47f5369498f\n",
      "[INFO 25-05-29 11:55:19.4846 PDT kernel.cc:1061] Use fast generic engine\n"
     ]
    },
    {
     "name": "stdout",
     "output_type": "stream",
     "text": [
      "i:80\n"
     ]
    },
    {
     "name": "stderr",
     "output_type": "stream",
     "text": [
      "[WARNING 25-05-29 11:55:19.8530 PDT gradient_boosted_trees.cc:1840] \"goss_alpha\" set but \"sampling_method\" not equal to \"GOSS\".\n",
      "[WARNING 25-05-29 11:55:19.8530 PDT gradient_boosted_trees.cc:1851] \"goss_beta\" set but \"sampling_method\" not equal to \"GOSS\".\n",
      "[WARNING 25-05-29 11:55:19.8530 PDT gradient_boosted_trees.cc:1865] \"selective_gradient_boosting_ratio\" set but \"sampling_method\" not equal to \"SELGB\".\n",
      "[INFO 25-05-29 11:55:20.2543 PDT kernel.cc:1233] Loading model from path /var/folders/4j/39rtwmqd5tg4g8dn1t6m037h0000gn/T/tmpifaziaoj/model/ with prefix f9c7388eee7b4275\n",
      "[INFO 25-05-29 11:55:20.2595 PDT kernel.cc:1061] Use fast generic engine\n"
     ]
    },
    {
     "name": "stdout",
     "output_type": "stream",
     "text": [
      "i:81\n"
     ]
    },
    {
     "name": "stderr",
     "output_type": "stream",
     "text": [
      "[WARNING 25-05-29 11:55:20.6340 PDT gradient_boosted_trees.cc:1840] \"goss_alpha\" set but \"sampling_method\" not equal to \"GOSS\".\n",
      "[WARNING 25-05-29 11:55:20.6341 PDT gradient_boosted_trees.cc:1851] \"goss_beta\" set but \"sampling_method\" not equal to \"GOSS\".\n",
      "[WARNING 25-05-29 11:55:20.6341 PDT gradient_boosted_trees.cc:1865] \"selective_gradient_boosting_ratio\" set but \"sampling_method\" not equal to \"SELGB\".\n",
      "[INFO 25-05-29 11:55:21.0907 PDT kernel.cc:1233] Loading model from path /var/folders/4j/39rtwmqd5tg4g8dn1t6m037h0000gn/T/tmpnbgi0cqg/model/ with prefix fe1943a448e04e6b\n",
      "[INFO 25-05-29 11:55:21.0981 PDT kernel.cc:1061] Use fast generic engine\n"
     ]
    },
    {
     "name": "stdout",
     "output_type": "stream",
     "text": [
      "i:82\n"
     ]
    },
    {
     "name": "stderr",
     "output_type": "stream",
     "text": [
      "[WARNING 25-05-29 11:55:21.4647 PDT gradient_boosted_trees.cc:1840] \"goss_alpha\" set but \"sampling_method\" not equal to \"GOSS\".\n",
      "[WARNING 25-05-29 11:55:21.4647 PDT gradient_boosted_trees.cc:1851] \"goss_beta\" set but \"sampling_method\" not equal to \"GOSS\".\n",
      "[WARNING 25-05-29 11:55:21.4647 PDT gradient_boosted_trees.cc:1865] \"selective_gradient_boosting_ratio\" set but \"sampling_method\" not equal to \"SELGB\".\n",
      "[INFO 25-05-29 11:55:21.9643 PDT kernel.cc:1233] Loading model from path /var/folders/4j/39rtwmqd5tg4g8dn1t6m037h0000gn/T/tmphidbok91/model/ with prefix fd0b85a2dea647a8\n",
      "[INFO 25-05-29 11:55:21.9734 PDT kernel.cc:1061] Use fast generic engine\n"
     ]
    },
    {
     "name": "stdout",
     "output_type": "stream",
     "text": [
      "i:83\n"
     ]
    },
    {
     "name": "stderr",
     "output_type": "stream",
     "text": [
      "[WARNING 25-05-29 11:55:22.3599 PDT gradient_boosted_trees.cc:1840] \"goss_alpha\" set but \"sampling_method\" not equal to \"GOSS\".\n",
      "[WARNING 25-05-29 11:55:22.3599 PDT gradient_boosted_trees.cc:1851] \"goss_beta\" set but \"sampling_method\" not equal to \"GOSS\".\n",
      "[WARNING 25-05-29 11:55:22.3599 PDT gradient_boosted_trees.cc:1865] \"selective_gradient_boosting_ratio\" set but \"sampling_method\" not equal to \"SELGB\".\n",
      "[INFO 25-05-29 11:55:22.8378 PDT kernel.cc:1233] Loading model from path /var/folders/4j/39rtwmqd5tg4g8dn1t6m037h0000gn/T/tmpf1socrty/model/ with prefix 4b901b99d8e54ace\n",
      "[INFO 25-05-29 11:55:22.8461 PDT kernel.cc:1061] Use fast generic engine\n"
     ]
    },
    {
     "name": "stdout",
     "output_type": "stream",
     "text": [
      "i:84\n"
     ]
    },
    {
     "name": "stderr",
     "output_type": "stream",
     "text": [
      "[WARNING 25-05-29 11:55:23.2144 PDT gradient_boosted_trees.cc:1840] \"goss_alpha\" set but \"sampling_method\" not equal to \"GOSS\".\n",
      "[WARNING 25-05-29 11:55:23.2144 PDT gradient_boosted_trees.cc:1851] \"goss_beta\" set but \"sampling_method\" not equal to \"GOSS\".\n",
      "[WARNING 25-05-29 11:55:23.2144 PDT gradient_boosted_trees.cc:1865] \"selective_gradient_boosting_ratio\" set but \"sampling_method\" not equal to \"SELGB\".\n",
      "[INFO 25-05-29 11:55:23.6516 PDT kernel.cc:1233] Loading model from path /var/folders/4j/39rtwmqd5tg4g8dn1t6m037h0000gn/T/tmp2rw2odwp/model/ with prefix c4e28a9c63c54892\n",
      "[INFO 25-05-29 11:55:23.6584 PDT abstract_model.cc:1344] Engine \"GradientBoostedTreesQuickScorerExtended\" built\n",
      "[INFO 25-05-29 11:55:23.6584 PDT kernel.cc:1061] Use fast generic engine\n"
     ]
    },
    {
     "name": "stdout",
     "output_type": "stream",
     "text": [
      "i:85\n"
     ]
    },
    {
     "name": "stderr",
     "output_type": "stream",
     "text": [
      "[WARNING 25-05-29 11:55:24.0224 PDT gradient_boosted_trees.cc:1840] \"goss_alpha\" set but \"sampling_method\" not equal to \"GOSS\".\n",
      "[WARNING 25-05-29 11:55:24.0224 PDT gradient_boosted_trees.cc:1851] \"goss_beta\" set but \"sampling_method\" not equal to \"GOSS\".\n",
      "[WARNING 25-05-29 11:55:24.0225 PDT gradient_boosted_trees.cc:1865] \"selective_gradient_boosting_ratio\" set but \"sampling_method\" not equal to \"SELGB\".\n",
      "[INFO 25-05-29 11:55:24.4534 PDT kernel.cc:1233] Loading model from path /var/folders/4j/39rtwmqd5tg4g8dn1t6m037h0000gn/T/tmp_vcdjmn2/model/ with prefix 96c5f1b069444b48\n",
      "[INFO 25-05-29 11:55:24.4603 PDT kernel.cc:1061] Use fast generic engine\n"
     ]
    },
    {
     "name": "stdout",
     "output_type": "stream",
     "text": [
      "i:86\n"
     ]
    },
    {
     "name": "stderr",
     "output_type": "stream",
     "text": [
      "[WARNING 25-05-29 11:55:24.8671 PDT gradient_boosted_trees.cc:1840] \"goss_alpha\" set but \"sampling_method\" not equal to \"GOSS\".\n",
      "[WARNING 25-05-29 11:55:24.8671 PDT gradient_boosted_trees.cc:1851] \"goss_beta\" set but \"sampling_method\" not equal to \"GOSS\".\n",
      "[WARNING 25-05-29 11:55:24.8671 PDT gradient_boosted_trees.cc:1865] \"selective_gradient_boosting_ratio\" set but \"sampling_method\" not equal to \"SELGB\".\n",
      "[INFO 25-05-29 11:55:25.4090 PDT kernel.cc:1233] Loading model from path /var/folders/4j/39rtwmqd5tg4g8dn1t6m037h0000gn/T/tmpm66_juz0/model/ with prefix a6d364c9136e4b5e\n",
      "[INFO 25-05-29 11:55:25.4204 PDT kernel.cc:1061] Use fast generic engine\n"
     ]
    },
    {
     "name": "stdout",
     "output_type": "stream",
     "text": [
      "i:87\n"
     ]
    },
    {
     "name": "stderr",
     "output_type": "stream",
     "text": [
      "[WARNING 25-05-29 11:55:25.8152 PDT gradient_boosted_trees.cc:1840] \"goss_alpha\" set but \"sampling_method\" not equal to \"GOSS\".\n",
      "[WARNING 25-05-29 11:55:25.8153 PDT gradient_boosted_trees.cc:1851] \"goss_beta\" set but \"sampling_method\" not equal to \"GOSS\".\n",
      "[WARNING 25-05-29 11:55:25.8153 PDT gradient_boosted_trees.cc:1865] \"selective_gradient_boosting_ratio\" set but \"sampling_method\" not equal to \"SELGB\".\n",
      "[INFO 25-05-29 11:55:26.2935 PDT kernel.cc:1233] Loading model from path /var/folders/4j/39rtwmqd5tg4g8dn1t6m037h0000gn/T/tmpwypopdlq/model/ with prefix 270e05d011af406a\n",
      "[INFO 25-05-29 11:55:26.3018 PDT kernel.cc:1061] Use fast generic engine\n"
     ]
    },
    {
     "name": "stdout",
     "output_type": "stream",
     "text": [
      "i:88\n"
     ]
    },
    {
     "name": "stderr",
     "output_type": "stream",
     "text": [
      "[WARNING 25-05-29 11:55:26.7104 PDT gradient_boosted_trees.cc:1840] \"goss_alpha\" set but \"sampling_method\" not equal to \"GOSS\".\n",
      "[WARNING 25-05-29 11:55:26.7104 PDT gradient_boosted_trees.cc:1851] \"goss_beta\" set but \"sampling_method\" not equal to \"GOSS\".\n",
      "[WARNING 25-05-29 11:55:26.7104 PDT gradient_boosted_trees.cc:1865] \"selective_gradient_boosting_ratio\" set but \"sampling_method\" not equal to \"SELGB\".\n",
      "[INFO 25-05-29 11:55:27.1577 PDT kernel.cc:1233] Loading model from path /var/folders/4j/39rtwmqd5tg4g8dn1t6m037h0000gn/T/tmpib1mhm3l/model/ with prefix 2341fc4930b74fa9\n",
      "[INFO 25-05-29 11:55:27.1654 PDT kernel.cc:1061] Use fast generic engine\n"
     ]
    },
    {
     "name": "stdout",
     "output_type": "stream",
     "text": [
      "i:89\n"
     ]
    },
    {
     "name": "stderr",
     "output_type": "stream",
     "text": [
      "[WARNING 25-05-29 11:55:27.5326 PDT gradient_boosted_trees.cc:1840] \"goss_alpha\" set but \"sampling_method\" not equal to \"GOSS\".\n",
      "[WARNING 25-05-29 11:55:27.5327 PDT gradient_boosted_trees.cc:1851] \"goss_beta\" set but \"sampling_method\" not equal to \"GOSS\".\n",
      "[WARNING 25-05-29 11:55:27.5327 PDT gradient_boosted_trees.cc:1865] \"selective_gradient_boosting_ratio\" set but \"sampling_method\" not equal to \"SELGB\".\n",
      "[INFO 25-05-29 11:55:27.9577 PDT kernel.cc:1233] Loading model from path /var/folders/4j/39rtwmqd5tg4g8dn1t6m037h0000gn/T/tmpyd2u6fao/model/ with prefix 532f13dd27944aeb\n",
      "[INFO 25-05-29 11:55:27.9633 PDT kernel.cc:1061] Use fast generic engine\n"
     ]
    },
    {
     "name": "stdout",
     "output_type": "stream",
     "text": [
      "i:90\n"
     ]
    },
    {
     "name": "stderr",
     "output_type": "stream",
     "text": [
      "[WARNING 25-05-29 11:55:28.3600 PDT gradient_boosted_trees.cc:1840] \"goss_alpha\" set but \"sampling_method\" not equal to \"GOSS\".\n",
      "[WARNING 25-05-29 11:55:28.3601 PDT gradient_boosted_trees.cc:1851] \"goss_beta\" set but \"sampling_method\" not equal to \"GOSS\".\n",
      "[WARNING 25-05-29 11:55:28.3601 PDT gradient_boosted_trees.cc:1865] \"selective_gradient_boosting_ratio\" set but \"sampling_method\" not equal to \"SELGB\".\n",
      "[INFO 25-05-29 11:55:28.8167 PDT kernel.cc:1233] Loading model from path /var/folders/4j/39rtwmqd5tg4g8dn1t6m037h0000gn/T/tmpjuhp8w7b/model/ with prefix 32eb555d848d4164\n",
      "[INFO 25-05-29 11:55:28.8324 PDT kernel.cc:1061] Use fast generic engine\n"
     ]
    },
    {
     "name": "stdout",
     "output_type": "stream",
     "text": [
      "i:91\n"
     ]
    },
    {
     "name": "stderr",
     "output_type": "stream",
     "text": [
      "[WARNING 25-05-29 11:55:29.2321 PDT gradient_boosted_trees.cc:1840] \"goss_alpha\" set but \"sampling_method\" not equal to \"GOSS\".\n",
      "[WARNING 25-05-29 11:55:29.2322 PDT gradient_boosted_trees.cc:1851] \"goss_beta\" set but \"sampling_method\" not equal to \"GOSS\".\n",
      "[WARNING 25-05-29 11:55:29.2322 PDT gradient_boosted_trees.cc:1865] \"selective_gradient_boosting_ratio\" set but \"sampling_method\" not equal to \"SELGB\".\n",
      "[INFO 25-05-29 11:55:29.7275 PDT kernel.cc:1233] Loading model from path /var/folders/4j/39rtwmqd5tg4g8dn1t6m037h0000gn/T/tmpbj10cs_7/model/ with prefix ab37b7d241a8479e\n",
      "[INFO 25-05-29 11:55:29.7359 PDT kernel.cc:1061] Use fast generic engine\n"
     ]
    },
    {
     "name": "stdout",
     "output_type": "stream",
     "text": [
      "i:92\n"
     ]
    },
    {
     "name": "stderr",
     "output_type": "stream",
     "text": [
      "[WARNING 25-05-29 11:55:30.1223 PDT gradient_boosted_trees.cc:1840] \"goss_alpha\" set but \"sampling_method\" not equal to \"GOSS\".\n",
      "[WARNING 25-05-29 11:55:30.1223 PDT gradient_boosted_trees.cc:1851] \"goss_beta\" set but \"sampling_method\" not equal to \"GOSS\".\n",
      "[WARNING 25-05-29 11:55:30.1223 PDT gradient_boosted_trees.cc:1865] \"selective_gradient_boosting_ratio\" set but \"sampling_method\" not equal to \"SELGB\".\n",
      "[INFO 25-05-29 11:55:30.7955 PDT kernel.cc:1233] Loading model from path /var/folders/4j/39rtwmqd5tg4g8dn1t6m037h0000gn/T/tmpwfe4c8ea/model/ with prefix f075dfaaf1a14949\n",
      "[INFO 25-05-29 11:55:30.8103 PDT kernel.cc:1061] Use fast generic engine\n"
     ]
    },
    {
     "name": "stdout",
     "output_type": "stream",
     "text": [
      "i:93\n"
     ]
    },
    {
     "name": "stderr",
     "output_type": "stream",
     "text": [
      "[WARNING 25-05-29 11:55:31.1666 PDT gradient_boosted_trees.cc:1840] \"goss_alpha\" set but \"sampling_method\" not equal to \"GOSS\".\n",
      "[WARNING 25-05-29 11:55:31.1666 PDT gradient_boosted_trees.cc:1851] \"goss_beta\" set but \"sampling_method\" not equal to \"GOSS\".\n",
      "[WARNING 25-05-29 11:55:31.1667 PDT gradient_boosted_trees.cc:1865] \"selective_gradient_boosting_ratio\" set but \"sampling_method\" not equal to \"SELGB\".\n",
      "[INFO 25-05-29 11:55:31.5374 PDT kernel.cc:1233] Loading model from path /var/folders/4j/39rtwmqd5tg4g8dn1t6m037h0000gn/T/tmpr9_1zayf/model/ with prefix 596f238cb8cd45ae\n",
      "[INFO 25-05-29 11:55:31.5414 PDT kernel.cc:1061] Use fast generic engine\n"
     ]
    },
    {
     "name": "stdout",
     "output_type": "stream",
     "text": [
      "i:94\n"
     ]
    },
    {
     "name": "stderr",
     "output_type": "stream",
     "text": [
      "[WARNING 25-05-29 11:55:31.9209 PDT gradient_boosted_trees.cc:1840] \"goss_alpha\" set but \"sampling_method\" not equal to \"GOSS\".\n",
      "[WARNING 25-05-29 11:55:31.9209 PDT gradient_boosted_trees.cc:1851] \"goss_beta\" set but \"sampling_method\" not equal to \"GOSS\".\n",
      "[WARNING 25-05-29 11:55:31.9209 PDT gradient_boosted_trees.cc:1865] \"selective_gradient_boosting_ratio\" set but \"sampling_method\" not equal to \"SELGB\".\n",
      "[INFO 25-05-29 11:55:32.3333 PDT kernel.cc:1233] Loading model from path /var/folders/4j/39rtwmqd5tg4g8dn1t6m037h0000gn/T/tmphajgi3n4/model/ with prefix a7e6363165cc4f22\n",
      "[INFO 25-05-29 11:55:32.3385 PDT kernel.cc:1061] Use fast generic engine\n"
     ]
    },
    {
     "name": "stdout",
     "output_type": "stream",
     "text": [
      "i:95\n"
     ]
    },
    {
     "name": "stderr",
     "output_type": "stream",
     "text": [
      "[WARNING 25-05-29 11:55:32.7120 PDT gradient_boosted_trees.cc:1840] \"goss_alpha\" set but \"sampling_method\" not equal to \"GOSS\".\n",
      "[WARNING 25-05-29 11:55:32.7120 PDT gradient_boosted_trees.cc:1851] \"goss_beta\" set but \"sampling_method\" not equal to \"GOSS\".\n",
      "[WARNING 25-05-29 11:55:32.7120 PDT gradient_boosted_trees.cc:1865] \"selective_gradient_boosting_ratio\" set but \"sampling_method\" not equal to \"SELGB\".\n",
      "[INFO 25-05-29 11:55:33.1174 PDT kernel.cc:1233] Loading model from path /var/folders/4j/39rtwmqd5tg4g8dn1t6m037h0000gn/T/tmpn18mebwb/model/ with prefix 0be9eb93c42940c6\n",
      "[INFO 25-05-29 11:55:33.1231 PDT kernel.cc:1061] Use fast generic engine\n"
     ]
    },
    {
     "name": "stdout",
     "output_type": "stream",
     "text": [
      "i:96\n"
     ]
    },
    {
     "name": "stderr",
     "output_type": "stream",
     "text": [
      "[WARNING 25-05-29 11:55:33.4951 PDT gradient_boosted_trees.cc:1840] \"goss_alpha\" set but \"sampling_method\" not equal to \"GOSS\".\n",
      "[WARNING 25-05-29 11:55:33.4951 PDT gradient_boosted_trees.cc:1851] \"goss_beta\" set but \"sampling_method\" not equal to \"GOSS\".\n",
      "[WARNING 25-05-29 11:55:33.4951 PDT gradient_boosted_trees.cc:1865] \"selective_gradient_boosting_ratio\" set but \"sampling_method\" not equal to \"SELGB\".\n",
      "[INFO 25-05-29 11:55:33.9320 PDT kernel.cc:1233] Loading model from path /var/folders/4j/39rtwmqd5tg4g8dn1t6m037h0000gn/T/tmpzv2dt_k9/model/ with prefix e80f0ebadd4842eb\n",
      "[INFO 25-05-29 11:55:33.9382 PDT abstract_model.cc:1344] Engine \"GradientBoostedTreesQuickScorerExtended\" built\n",
      "[INFO 25-05-29 11:55:33.9383 PDT kernel.cc:1061] Use fast generic engine\n"
     ]
    },
    {
     "name": "stdout",
     "output_type": "stream",
     "text": [
      "i:97\n"
     ]
    },
    {
     "name": "stderr",
     "output_type": "stream",
     "text": [
      "[WARNING 25-05-29 11:55:34.2969 PDT gradient_boosted_trees.cc:1840] \"goss_alpha\" set but \"sampling_method\" not equal to \"GOSS\".\n",
      "[WARNING 25-05-29 11:55:34.2969 PDT gradient_boosted_trees.cc:1851] \"goss_beta\" set but \"sampling_method\" not equal to \"GOSS\".\n",
      "[WARNING 25-05-29 11:55:34.2970 PDT gradient_boosted_trees.cc:1865] \"selective_gradient_boosting_ratio\" set but \"sampling_method\" not equal to \"SELGB\".\n",
      "[INFO 25-05-29 11:55:34.6866 PDT kernel.cc:1233] Loading model from path /var/folders/4j/39rtwmqd5tg4g8dn1t6m037h0000gn/T/tmpld7d8gno/model/ with prefix ace65501b73f489e\n",
      "[INFO 25-05-29 11:55:34.6903 PDT kernel.cc:1061] Use fast generic engine\n"
     ]
    },
    {
     "name": "stdout",
     "output_type": "stream",
     "text": [
      "i:98\n"
     ]
    },
    {
     "name": "stderr",
     "output_type": "stream",
     "text": [
      "[WARNING 25-05-29 11:55:35.0513 PDT gradient_boosted_trees.cc:1840] \"goss_alpha\" set but \"sampling_method\" not equal to \"GOSS\".\n",
      "[WARNING 25-05-29 11:55:35.0513 PDT gradient_boosted_trees.cc:1851] \"goss_beta\" set but \"sampling_method\" not equal to \"GOSS\".\n",
      "[WARNING 25-05-29 11:55:35.0514 PDT gradient_boosted_trees.cc:1865] \"selective_gradient_boosting_ratio\" set but \"sampling_method\" not equal to \"SELGB\".\n",
      "[INFO 25-05-29 11:55:35.7015 PDT kernel.cc:1233] Loading model from path /var/folders/4j/39rtwmqd5tg4g8dn1t6m037h0000gn/T/tmpsyjtuj7k/model/ with prefix c49de2b4b24b46c5\n",
      "[INFO 25-05-29 11:55:35.7172 PDT kernel.cc:1061] Use fast generic engine\n"
     ]
    },
    {
     "name": "stdout",
     "output_type": "stream",
     "text": [
      "i:99\n"
     ]
    },
    {
     "name": "stderr",
     "output_type": "stream",
     "text": [
      "[WARNING 25-05-29 11:55:36.0826 PDT gradient_boosted_trees.cc:1840] \"goss_alpha\" set but \"sampling_method\" not equal to \"GOSS\".\n",
      "[WARNING 25-05-29 11:55:36.0826 PDT gradient_boosted_trees.cc:1851] \"goss_beta\" set but \"sampling_method\" not equal to \"GOSS\".\n",
      "[WARNING 25-05-29 11:55:36.0826 PDT gradient_boosted_trees.cc:1865] \"selective_gradient_boosting_ratio\" set but \"sampling_method\" not equal to \"SELGB\".\n",
      "[INFO 25-05-29 11:55:36.8777 PDT kernel.cc:1233] Loading model from path /var/folders/4j/39rtwmqd5tg4g8dn1t6m037h0000gn/T/tmpuyb4ds2i/model/ with prefix aa64246986f04f5c\n",
      "[INFO 25-05-29 11:55:36.8999 PDT kernel.cc:1061] Use fast generic engine\n"
     ]
    }
   ],
   "source": [
    "predictions = None\n",
    "num_predictions = 0\n",
    "\n",
    "for i in range(100):\n",
    "    print(f\"i:{i}\")\n",
    "    # Possible models: GradientBoostedTreesModel or RandomForestModel\n",
    "    model = tfdf.keras.GradientBoostedTreesModel(\n",
    "        verbose=0, # Very few logs\n",
    "        features=[tfdf.keras.FeatureUsage(name=n) for n in input_features],\n",
    "        exclude_non_specified_features=True, # Only use the features in \"features\"\n",
    "\n",
    "        #min_examples=1,\n",
    "        #categorical_algorithm=\"RANDOM\",\n",
    "        ##max_depth=4,\n",
    "        #shrinkage=0.05,\n",
    "        ##num_candidate_attributes_ratio=0.2,\n",
    "        #split_axis=\"SPARSE_OBLIQUE\",\n",
    "        #sparse_oblique_normalization=\"MIN_MAX\",\n",
    "        #sparse_oblique_num_projections_exponent=2.0,\n",
    "        #num_trees=2000,\n",
    "        ##validation_ratio=0.0,\n",
    "        random_seed=i,\n",
    "        honest=True,\n",
    "    )\n",
    "    model.fit(train_ds)\n",
    "\n",
    "    sub_predictions = model.predict(serving_ds, verbose=0)[:,0]\n",
    "    if predictions is None:\n",
    "        predictions = sub_predictions\n",
    "    else:\n",
    "        predictions += sub_predictions\n",
    "    num_predictions += 1\n",
    "\n",
    "predictions/=num_predictions\n",
    "\n",
    "kaggle_predictions = pd.DataFrame({\n",
    "        \"PassengerId\": serving_df[\"PassengerId\"],\n",
    "        \"Survived\": (predictions >= 0.5).astype(int)\n",
    "    })\n",
    "\n",
    "#make_submission(kaggle_predictions)"
   ]
  },
  {
   "cell_type": "code",
   "execution_count": 11,
   "metadata": {},
   "outputs": [
    {
     "name": "stdout",
     "output_type": "stream",
     "text": [
      "     PassengerId  Survived\n",
      "0            892         0\n",
      "1            893         1\n",
      "2            894         0\n",
      "3            895         0\n",
      "4            896         1\n",
      "..           ...       ...\n",
      "413         1305         0\n",
      "414         1306         1\n",
      "415         1307         0\n",
      "416         1308         0\n",
      "417         1309         0\n",
      "\n",
      "[418 rows x 2 columns]\n"
     ]
    }
   ],
   "source": [
    "print(kaggle_predictions)"
   ]
  },
  {
   "cell_type": "markdown",
   "metadata": {
    "id": "iGHP1_LHXqc5"
   },
   "source": [
    "# What is next\n",
    "\n",
    "If you want to learn more about TensorFlow Decision Forests and its advanced features, you can follow the official documentation [here](https://www.tensorflow.org/decision_forests)"
   ]
  }
 ],
 "metadata": {
  "colab": {
   "name": "Titanic competition w/ TensorFlow Decision Forests",
   "provenance": []
  },
  "kernelspec": {
   "display_name": "Python (ml-3.11)",
   "language": "python",
   "name": "ml-3.11"
  },
  "language_info": {
   "codemirror_mode": {
    "name": "ipython",
    "version": 3
   },
   "file_extension": ".py",
   "mimetype": "text/x-python",
   "name": "python",
   "nbconvert_exporter": "python",
   "pygments_lexer": "ipython3",
   "version": "3.11.11"
  }
 },
 "nbformat": 4,
 "nbformat_minor": 4
}
